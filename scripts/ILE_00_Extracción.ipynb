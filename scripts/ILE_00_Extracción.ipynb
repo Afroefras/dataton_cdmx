{
 "cells": [
  {
   "cell_type": "markdown",
   "metadata": {},
   "source": [
    "# Extracción"
   ]
  },
  {
   "cell_type": "markdown",
   "metadata": {},
   "source": [
    "## Parámetros"
   ]
  },
  {
   "cell_type": "code",
   "execution_count": 1,
   "metadata": {},
   "outputs": [],
   "source": [
    "BASE_DIR = '/Users/efraflores/Desktop/EF/Contests/Datathon_CDMX/data' # Mac\n",
    "# BASE_DIR = r'D:\\Users\\efras\\Documents\\EF\\Contests\\Datathon_CDMX\\data' # Windows\n",
    "RESOURCE_ID = '932b56bf-c5ec-4815-9814-370d58754002' ##### API SÓLO TRAE INFO 2016\n",
    "FILE_NAME = 'ile'"
   ]
  },
  {
   "cell_type": "markdown",
   "metadata": {},
   "source": [
    "## Importar"
   ]
  },
  {
   "cell_type": "markdown",
   "metadata": {},
   "source": [
    "### Clase"
   ]
  },
  {
   "cell_type": "code",
   "execution_count": 2,
   "metadata": {},
   "outputs": [
    {
     "name": "stdout",
     "output_type": "stream",
     "text": [
      "Directorio: \t/Users/efraflores/Desktop/EF/Contests/Datathon_CDMX/data\n"
     ]
    }
   ],
   "source": [
    "from mariachis.interrupcion_embarazo import InterrupcionEmbarazo\n",
    "\n",
    "ile = InterrupcionEmbarazo(BASE_DIR, FILE_NAME)\n",
    "print(ile)"
   ]
  },
  {
   "cell_type": "markdown",
   "metadata": {},
   "source": [
    "### API"
   ]
  },
  {
   "cell_type": "code",
   "execution_count": 3,
   "metadata": {},
   "outputs": [
    {
     "name": "stdout",
     "output_type": "stream",
     "text": [
      "Archivo importado desde: https://datos.cdmx.gob.mx/api/3/action/datastore_search?resource_id=932b56bf-c5ec-4815-9814-370d58754002&distinct=true&limit=32000\n",
      "Con 1000 renglones y 48 columnas\n"
     ]
    },
    {
     "name": "stdout",
     "output_type": "stream",
     "text": [
      "2016    1.0\n",
      "Name: ano, dtype: float64\n"
     ]
    }
   ],
   "source": [
    "from_api = ile.full_import(api=True, api_export=False, resource_id=RESOURCE_ID)\n",
    "##### API SÓLO TRAE INFO 2016\n",
    "print(from_api['ano'].value_counts(1))"
   ]
  },
  {
   "cell_type": "markdown",
   "metadata": {},
   "source": [
    "### CSV"
   ]
  },
  {
   "cell_type": "code",
   "execution_count": 4,
   "metadata": {},
   "outputs": [
    {
     "name": "stdout",
     "output_type": "stream",
     "text": [
      "Archivo con nombre ile.csv fue encontrado en /Users/efraflores/Desktop/EF/Contests/Datathon_CDMX/data\n",
      "Con 79403 renglones y 47 columnas\n"
     ]
    },
    {
     "data": {
      "text/html": [
       "<div>\n",
       "<style scoped>\n",
       "    .dataframe tbody tr th:only-of-type {\n",
       "        vertical-align: middle;\n",
       "    }\n",
       "\n",
       "    .dataframe tbody tr th {\n",
       "        vertical-align: top;\n",
       "    }\n",
       "\n",
       "    .dataframe thead th {\n",
       "        text-align: right;\n",
       "    }\n",
       "</style>\n",
       "<table border=\"1\" class=\"dataframe\">\n",
       "  <thead>\n",
       "    <tr style=\"text-align: right;\">\n",
       "      <th></th>\n",
       "      <th>año</th>\n",
       "      <th>mes</th>\n",
       "      <th>fingreso</th>\n",
       "      <th>autoref</th>\n",
       "      <th>edocivil_descripcion</th>\n",
       "      <th>edad</th>\n",
       "      <th>desc_derechohab</th>\n",
       "      <th>nivel_edu</th>\n",
       "      <th>ocupacion</th>\n",
       "      <th>religion</th>\n",
       "      <th>...</th>\n",
       "      <th>tanalgesico</th>\n",
       "      <th>cconsejo</th>\n",
       "      <th>panticoncep</th>\n",
       "      <th>fecha_cierre</th>\n",
       "      <th>resultado_ile</th>\n",
       "      <th>medicamento</th>\n",
       "      <th>clues_2</th>\n",
       "      <th>clues_hospital</th>\n",
       "      <th>procile_simplificada</th>\n",
       "      <th>procile_completa</th>\n",
       "    </tr>\n",
       "  </thead>\n",
       "  <tbody>\n",
       "    <tr>\n",
       "      <th>74390</th>\n",
       "      <td>2018.0</td>\n",
       "      <td>JULIO</td>\n",
       "      <td>2018-07-16</td>\n",
       "      <td>NaN</td>\n",
       "      <td>SOLTERA</td>\n",
       "      <td>31.0</td>\n",
       "      <td>NINGUNO</td>\n",
       "      <td>PREPARATORIA</td>\n",
       "      <td>NaN</td>\n",
       "      <td>NINGUNA</td>\n",
       "      <td>...</td>\n",
       "      <td>NaN</td>\n",
       "      <td>NaN</td>\n",
       "      <td>NaN</td>\n",
       "      <td>NaN</td>\n",
       "      <td>COMPLETA</td>\n",
       "      <td>NaN</td>\n",
       "      <td>DFSSA004270</td>\n",
       "      <td>DFSSA004270</td>\n",
       "      <td>MEDICAMENTO</td>\n",
       "      <td>MISOPROSTOL + MIFEPRISTONA</td>\n",
       "    </tr>\n",
       "  </tbody>\n",
       "</table>\n",
       "<p>1 rows × 47 columns</p>\n",
       "</div>"
      ],
      "text/plain": [
       "          año    mes    fingreso autoref edocivil_descripcion  edad  \\\n",
       "74390  2018.0  JULIO  2018-07-16     NaN              SOLTERA  31.0   \n",
       "\n",
       "      desc_derechohab     nivel_edu ocupacion religion  ... tanalgesico  \\\n",
       "74390         NINGUNO  PREPARATORIA       NaN  NINGUNA  ...         NaN   \n",
       "\n",
       "      cconsejo panticoncep fecha_cierre  resultado_ile medicamento  \\\n",
       "74390      NaN         NaN          NaN       COMPLETA         NaN   \n",
       "\n",
       "           clues_2  clues_hospital  procile_simplificada  \\\n",
       "74390  DFSSA004270     DFSSA004270           MEDICAMENTO   \n",
       "\n",
       "                 procile_completa  \n",
       "74390  MISOPROSTOL + MIFEPRISTONA  \n",
       "\n",
       "[1 rows x 47 columns]"
      ]
     },
     "execution_count": 4,
     "metadata": {},
     "output_type": "execute_result"
    }
   ],
   "source": [
    "# Mejor descargamos el archivo completo \n",
    "df = ile.full_import(api=False)\n",
    "df.sample()"
   ]
  }
 ],
 "metadata": {
  "interpreter": {
   "hash": "bf5c91e87fa3f8c0a87f775dea31b1f562cb136b62dbdf18b0d4eb82d33f0ab4"
  },
  "kernelspec": {
   "display_name": "Python 3.9.1 64-bit ('venv': venv)",
   "name": "python3"
  },
  "language_info": {
   "codemirror_mode": {
    "name": "ipython",
    "version": 3
   },
   "file_extension": ".py",
   "mimetype": "text/x-python",
   "name": "python",
   "nbconvert_exporter": "python",
   "pygments_lexer": "ipython3",
   "version": "3.9.1"
  },
  "orig_nbformat": 4
 },
 "nbformat": 4,
 "nbformat_minor": 2
}
