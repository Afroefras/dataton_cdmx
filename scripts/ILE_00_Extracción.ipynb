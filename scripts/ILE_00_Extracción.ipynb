{
 "cells": [
  {
   "cell_type": "markdown",
   "source": [
    "# Extracción"
   ],
   "metadata": {}
  },
  {
   "cell_type": "markdown",
   "source": [
    "## Parámetros"
   ],
   "metadata": {}
  },
  {
   "cell_type": "code",
   "execution_count": 4,
   "source": [
    "BASE_DIR = '/Users/efraflores/Desktop/EF/Contests/Datathon_CDMX/data' # Mac\n",
    "# BASE_DIR = r'D:\\Users\\efras\\Documents\\EF\\Contests\\Datathon_CDMX\\data' # Windows\n",
    "RESOURCE_ID = '932b56bf-c5ec-4815-9814-370d58754002' ##### API SÓLO TRAE INFO 2016\n",
    "FILE_NAME = 'interrupcion_embarazo'"
   ],
   "outputs": [],
   "metadata": {}
  },
  {
   "cell_type": "markdown",
   "source": [
    "## Importar"
   ],
   "metadata": {}
  },
  {
   "cell_type": "markdown",
   "source": [
    "### Clase"
   ],
   "metadata": {}
  },
  {
   "cell_type": "code",
   "execution_count": 5,
   "source": [
    "from mariachis.interrupcion_embarazo import InterrupcionEmbarazo\n",
    "\n",
    "ile = InterrupcionEmbarazo(BASE_DIR, FILE_NAME)\n",
    "print(ile)"
   ],
   "outputs": [
    {
     "output_type": "stream",
     "name": "stdout",
     "text": [
      "Directorio: \t/Users/efraflores/Desktop/EF/Contests/Datathon_CDMX/data\n"
     ]
    }
   ],
   "metadata": {}
  },
  {
   "cell_type": "markdown",
   "source": [
    "### API"
   ],
   "metadata": {}
  },
  {
   "cell_type": "code",
   "execution_count": 6,
   "source": [
    "from_api = ile.full_import(api=True, api_export=False, resource_id=RESOURCE_ID)\n",
    "##### API SÓLO TRAE INFO 2016\n",
    "print(from_api['ano'].value_counts(1))"
   ],
   "outputs": [
    {
     "output_type": "stream",
     "name": "stdout",
     "text": [
      "Archivo importado desde: https://datos.cdmx.gob.mx/api/3/action/datastore_search?resource_id=932b56bf-c5ec-4815-9814-370d58754002&distinct=true&limit=32000\n",
      "Con 1000 renglones y 48 columnas\n",
      "2016    1.0\n",
      "Name: ano, dtype: float64\n"
     ]
    }
   ],
   "metadata": {}
  },
  {
   "cell_type": "markdown",
   "source": [
    "### CSV"
   ],
   "metadata": {}
  },
  {
   "cell_type": "code",
   "execution_count": 7,
   "source": [
    "df = ile.full_import(api=False)\n",
    "df.sample()"
   ],
   "outputs": [
    {
     "output_type": "stream",
     "name": "stdout",
     "text": [
      "Archivo con nombre interrupcion_embarazo.csv fue encontrado en /Users/efraflores/Desktop/EF/Contests/Datathon_CDMX/data\n",
      "Con 79403 renglones y 47 columnas\n"
     ]
    },
    {
     "output_type": "execute_result",
     "data": {
      "text/html": [
       "<div>\n",
       "<style scoped>\n",
       "    .dataframe tbody tr th:only-of-type {\n",
       "        vertical-align: middle;\n",
       "    }\n",
       "\n",
       "    .dataframe tbody tr th {\n",
       "        vertical-align: top;\n",
       "    }\n",
       "\n",
       "    .dataframe thead th {\n",
       "        text-align: right;\n",
       "    }\n",
       "</style>\n",
       "<table border=\"1\" class=\"dataframe\">\n",
       "  <thead>\n",
       "    <tr style=\"text-align: right;\">\n",
       "      <th></th>\n",
       "      <th>año</th>\n",
       "      <th>mes</th>\n",
       "      <th>fingreso</th>\n",
       "      <th>autoref</th>\n",
       "      <th>edocivil_descripcion</th>\n",
       "      <th>edad</th>\n",
       "      <th>desc_derechohab</th>\n",
       "      <th>nivel_edu</th>\n",
       "      <th>ocupacion</th>\n",
       "      <th>religion</th>\n",
       "      <th>...</th>\n",
       "      <th>tanalgesico</th>\n",
       "      <th>cconsejo</th>\n",
       "      <th>panticoncep</th>\n",
       "      <th>fecha_cierre</th>\n",
       "      <th>resultado_ile</th>\n",
       "      <th>medicamento</th>\n",
       "      <th>clues_2</th>\n",
       "      <th>clues_hospital</th>\n",
       "      <th>procile_simplificada</th>\n",
       "      <th>procile_completa</th>\n",
       "    </tr>\n",
       "  </thead>\n",
       "  <tbody>\n",
       "    <tr>\n",
       "      <th>53721</th>\n",
       "      <td>2017.0</td>\n",
       "      <td>MARZO</td>\n",
       "      <td>2017-03-09</td>\n",
       "      <td>NaN</td>\n",
       "      <td>SOLTERA</td>\n",
       "      <td>24.0</td>\n",
       "      <td>SEGURO POPULAR</td>\n",
       "      <td>SECUNDARIA</td>\n",
       "      <td>TRABAJADORA DEL HOGAR NO REMUNERADA</td>\n",
       "      <td>CATOLICA</td>\n",
       "      <td>...</td>\n",
       "      <td>SI</td>\n",
       "      <td>NaN</td>\n",
       "      <td>IMPLANTE SUBDERMICO</td>\n",
       "      <td>NaN</td>\n",
       "      <td>NaN</td>\n",
       "      <td>NaN</td>\n",
       "      <td>DFSSA003932</td>\n",
       "      <td>DFSSA003932</td>\n",
       "      <td>ASPIRACIÓN ENDOUTERINA (MANUAL O ELÉCTRICA)</td>\n",
       "      <td>NaN</td>\n",
       "    </tr>\n",
       "  </tbody>\n",
       "</table>\n",
       "<p>1 rows × 47 columns</p>\n",
       "</div>"
      ],
      "text/plain": [
       "          año    mes    fingreso autoref edocivil_descripcion  edad  \\\n",
       "53721  2017.0  MARZO  2017-03-09     NaN              SOLTERA  24.0   \n",
       "\n",
       "      desc_derechohab   nivel_edu                            ocupacion  \\\n",
       "53721  SEGURO POPULAR  SECUNDARIA  TRABAJADORA DEL HOGAR NO REMUNERADA   \n",
       "\n",
       "       religion  ... tanalgesico cconsejo          panticoncep fecha_cierre  \\\n",
       "53721  CATOLICA  ...          SI      NaN  IMPLANTE SUBDERMICO          NaN   \n",
       "\n",
       "       resultado_ile medicamento      clues_2  clues_hospital  \\\n",
       "53721            NaN         NaN  DFSSA003932     DFSSA003932   \n",
       "\n",
       "                              procile_simplificada  procile_completa  \n",
       "53721  ASPIRACIÓN ENDOUTERINA (MANUAL O ELÉCTRICA)               NaN  \n",
       "\n",
       "[1 rows x 47 columns]"
      ]
     },
     "metadata": {},
     "execution_count": 7
    }
   ],
   "metadata": {}
  }
 ],
 "metadata": {
  "orig_nbformat": 4,
  "language_info": {
   "name": "python",
   "version": "3.9.1",
   "mimetype": "text/x-python",
   "codemirror_mode": {
    "name": "ipython",
    "version": 3
   },
   "pygments_lexer": "ipython3",
   "nbconvert_exporter": "python",
   "file_extension": ".py"
  },
  "kernelspec": {
   "name": "python3",
   "display_name": "Python 3.9.1 64-bit ('venv': venv)"
  },
  "interpreter": {
   "hash": "3d6254c2a4489d24e251f2cd74a7554b2c853c1e9726258dfe363beb22972a7a"
  }
 },
 "nbformat": 4,
 "nbformat_minor": 2
}