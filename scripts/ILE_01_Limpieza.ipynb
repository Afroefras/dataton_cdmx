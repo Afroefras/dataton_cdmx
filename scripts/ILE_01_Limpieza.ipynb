{
 "cells": [
  {
   "cell_type": "markdown",
   "source": [
    "# Limpieza"
   ],
   "metadata": {}
  },
  {
   "cell_type": "markdown",
   "source": [
    "## Parámetros"
   ],
   "metadata": {}
  },
  {
   "cell_type": "code",
   "execution_count": 4,
   "source": [
    "BASE_DIR = '/Users/efraflores/Desktop/EF/Contests/Datathon_CDMX/data' # Mac\n",
    "# BASE_DIR = r'D:\\Users\\efras\\Documents\\EF\\Contests\\Datathon_CDMX\\data' # Windows\n",
    "FILE_NAME = 'interrupcion_embarazo'"
   ],
   "outputs": [],
   "metadata": {}
  },
  {
   "cell_type": "markdown",
   "source": [
    "## Importar"
   ],
   "metadata": {}
  },
  {
   "cell_type": "markdown",
   "source": [
    "### Entorno"
   ],
   "metadata": {}
  },
  {
   "cell_type": "code",
   "execution_count": 5,
   "source": [
    "from pandas import qcut\n",
    "from IPython.display import display"
   ],
   "outputs": [],
   "metadata": {}
  },
  {
   "cell_type": "markdown",
   "source": [
    "### Clase"
   ],
   "metadata": {}
  },
  {
   "cell_type": "code",
   "execution_count": 6,
   "source": [
    "from mariachis.interrupcion_embarazo import InterrupcionEmbarazo\n",
    "\n",
    "ile = InterrupcionEmbarazo(BASE_DIR, FILE_NAME)\n",
    "print(ile)"
   ],
   "outputs": [
    {
     "output_type": "stream",
     "name": "stdout",
     "text": [
      "Directorio: \t/Users/efraflores/Desktop/EF/Contests/Datathon_CDMX/data\n"
     ]
    }
   ],
   "metadata": {}
  },
  {
   "cell_type": "markdown",
   "source": [
    "### Datos"
   ],
   "metadata": {}
  },
  {
   "cell_type": "code",
   "execution_count": 7,
   "source": [
    "df = ile.full_import(api=False)\n",
    "df.sample()"
   ],
   "outputs": [
    {
     "output_type": "stream",
     "name": "stdout",
     "text": [
      "Archivo con nombre interrupcion_embarazo.csv fue encontrado en /Users/efraflores/Desktop/EF/Contests/Datathon_CDMX/data\n",
      "Con 79403 renglones y 47 columnas\n"
     ]
    },
    {
     "output_type": "execute_result",
     "data": {
      "text/html": [
       "<div>\n",
       "<style scoped>\n",
       "    .dataframe tbody tr th:only-of-type {\n",
       "        vertical-align: middle;\n",
       "    }\n",
       "\n",
       "    .dataframe tbody tr th {\n",
       "        vertical-align: top;\n",
       "    }\n",
       "\n",
       "    .dataframe thead th {\n",
       "        text-align: right;\n",
       "    }\n",
       "</style>\n",
       "<table border=\"1\" class=\"dataframe\">\n",
       "  <thead>\n",
       "    <tr style=\"text-align: right;\">\n",
       "      <th></th>\n",
       "      <th>año</th>\n",
       "      <th>mes</th>\n",
       "      <th>fingreso</th>\n",
       "      <th>autoref</th>\n",
       "      <th>edocivil_descripcion</th>\n",
       "      <th>edad</th>\n",
       "      <th>desc_derechohab</th>\n",
       "      <th>nivel_edu</th>\n",
       "      <th>ocupacion</th>\n",
       "      <th>religion</th>\n",
       "      <th>...</th>\n",
       "      <th>tanalgesico</th>\n",
       "      <th>cconsejo</th>\n",
       "      <th>panticoncep</th>\n",
       "      <th>fecha_cierre</th>\n",
       "      <th>resultado_ile</th>\n",
       "      <th>medicamento</th>\n",
       "      <th>clues_2</th>\n",
       "      <th>clues_hospital</th>\n",
       "      <th>procile_simplificada</th>\n",
       "      <th>procile_completa</th>\n",
       "    </tr>\n",
       "  </thead>\n",
       "  <tbody>\n",
       "    <tr>\n",
       "      <th>33888</th>\n",
       "      <td>2020.0</td>\n",
       "      <td>JULIO</td>\n",
       "      <td>2020-07-15</td>\n",
       "      <td>NaN</td>\n",
       "      <td>UNION LIBRE</td>\n",
       "      <td>24.0</td>\n",
       "      <td>NINGUNO</td>\n",
       "      <td>PREPARATORIA</td>\n",
       "      <td>EMPLEADA</td>\n",
       "      <td>CATOLICA</td>\n",
       "      <td>...</td>\n",
       "      <td>NO</td>\n",
       "      <td>SI</td>\n",
       "      <td>IMPLANTE SUBDERMICO</td>\n",
       "      <td>NaN</td>\n",
       "      <td>NaN</td>\n",
       "      <td>NaN</td>\n",
       "      <td>NaN</td>\n",
       "      <td>DFSSA003640</td>\n",
       "      <td>MEDICAMENTO</td>\n",
       "      <td>MISOPROSTOL + MIFEPRISTONA</td>\n",
       "    </tr>\n",
       "  </tbody>\n",
       "</table>\n",
       "<p>1 rows × 47 columns</p>\n",
       "</div>"
      ],
      "text/plain": [
       "          año    mes    fingreso autoref edocivil_descripcion  edad  \\\n",
       "33888  2020.0  JULIO  2020-07-15     NaN          UNION LIBRE  24.0   \n",
       "\n",
       "      desc_derechohab     nivel_edu ocupacion  religion  ... tanalgesico  \\\n",
       "33888         NINGUNO  PREPARATORIA  EMPLEADA  CATOLICA  ...          NO   \n",
       "\n",
       "      cconsejo          panticoncep fecha_cierre  resultado_ile medicamento  \\\n",
       "33888       SI  IMPLANTE SUBDERMICO          NaN            NaN         NaN   \n",
       "\n",
       "       clues_2  clues_hospital  procile_simplificada  \\\n",
       "33888      NaN     DFSSA003640           MEDICAMENTO   \n",
       "\n",
       "                 procile_completa  \n",
       "33888  MISOPROSTOL + MIFEPRISTONA  \n",
       "\n",
       "[1 rows x 47 columns]"
      ]
     },
     "metadata": {},
     "execution_count": 7
    }
   ],
   "metadata": {}
  },
  {
   "cell_type": "markdown",
   "source": [
    "## Diccionario de variables"
   ],
   "metadata": {}
  },
  {
   "cell_type": "markdown",
   "source": [
    "### Limpieza"
   ],
   "metadata": {}
  },
  {
   "cell_type": "code",
   "execution_count": 8,
   "source": [
    "# Diccionario para aplicar limpieza por tipo de variable\n",
    "clean_dict = {}\n",
    "\n",
    "# Variables que o son 0 o >=1, es decir, no es relevante saber si son 2, 3, o más porque estarán agrupadas\n",
    "clean_dict['vars_numbin'] = ['naborto', 'npartos', 'ncesarea', 'nile']\n",
    "\n",
    "# Numéricas que serán partidas en rangos para que los registros nulos no sean omitidos ni imputados\n",
    "clean_dict['vars_num'] = {\n",
    "    'edad': [9,11,15,18,21,25,29,35], # El algoritmo hará rangos: <= 9, 10-11, 12-15, ... , 30-35, >= 36\n",
    "    'menarca': [7,11,12,13,14,15],\n",
    "    'fsexual': [7,11,15,18,21],\n",
    "    'sememb': [3,6,9,12,20],\n",
    "    'nhijos': [0,1,2],\n",
    "    'gesta': [0,1,2,3,4],\n",
    "    'c_num': [0,1,2],\n",
    "    'p_semgest': [0,5,6,7,8,9],\n",
    "    'p_diasgesta': [0,1,2,3,4,5]\n",
    "}\n",
    "\n",
    "# Obtener sólo la primer palabra\n",
    "clean_dict['vars_first_word'] = ['anticonceptivo',  'panticoncep']\n",
    "\n",
    "# Variables binarias: sólo tienen sí o no\n",
    "clean_dict['vars_yes_no'] = ['autoref', 'consejeria', 'p_consent', 's_complica', 'c_dolor', 'tanalgesico', 'cconsejo', 'resultado_ile']\n",
    "\n",
    "# Limpiar y mantener para clustering posterior\n",
    "clean_dict['vars_clean_keep'] = ['motiles', 'desc_servicio', 'anticonceptivo', 'panticoncep', 'procile_simplificada', 'procile_completa']\n",
    "\n",
    "# Sólo limpiar acentos y caracteres especiales\n",
    "clean_dict['vars_just_clean'] = ['entidad','alc_o_municipio']\n",
    "\n",
    "# Agrupar clases de variables categóricas para que el clustering converga mejor y más rápido\n",
    "clean_dict['vars_cat'] = {\n",
    "    'edocivil_descripcion':{\n",
    "        'SOLTERA':'SOLTERX', \n",
    "        'UNION LIBRE':'UNION_LIBRE', \n",
    "        'CASADA':'CASADX',\n",
    "        'DIVORCIADA':'SEPARADX',   # Se decide agrupar el término \"DIVORCIADA\" en \"SEPARADX\"\n",
    "        'SEPARADA':'SEPARADX',     # Se decide agrupar el término \"SEPARADA\" en \"SEPARADX\" \n",
    "        'VIUDA':'SEPARADX',        # Se decide agrupar el término \"VIUDA\" en \"SEPARADX\" \n",
    "    },\n",
    "    'ocupacion':{\n",
    "        'EMPLEADA':'EMPLEADX',\n",
    "        'ESTUDIANTE':'ESTUDIANTE',\n",
    "        'TRABAJADORA DEL HOGAR NO REMUNERADA':'TRAB_HOGAR_NO_REMUNERADX',\n",
    "        'DESEMPLEADA':'DESEMPLEADX',\n",
    "    },\n",
    "    'desc_derechohab':{\n",
    "        'NINGUNO':'NINGUNO',\n",
    "        'IMSS':'ALGUNO',\n",
    "        'SEGURO POPULAR':'ALGUNO',\n",
    "        'OTRA':'ALGUNO',\n",
    "        'ISSSTE':'ALGUNO',\n",
    "    },\n",
    "    'nivel_edu':{\n",
    "        'LICENCIATURA':'LICENCIATURA',\n",
    "        'MAESTRIA':'POSGRADO',\n",
    "        'DOCTORADO':'POSGRADO',\n",
    "        'PREPARATORIA':'PREPARATORIA',\n",
    "        'SECUNDARIA':'SECUNDARIA',\n",
    "        'PRIMARIA':'PRIMARIA',\n",
    "        'SIN ACCESO A LA EDUCACION FORMAL':'SIN_ACCESO',\n",
    "    },\n",
    "    'parentesco':{\n",
    "        'PAREJA':'PAREJA',\n",
    "        'EX-PAREJA':'PAREJA',\n",
    "        'FAMILIAR MUJER':'FAMILIAR',\n",
    "        'FAMILIAR HOMBRE':'FAMILIAR',\n",
    "        'FAMILIAR SIN ESPECIFICAR':'FAMILIAR',\n",
    "        'TUTOR O RESPONSABLE LEGAL':'FAMILIAR',\n",
    "        'PERSONA CERCANA':'AMIGX',\n",
    "        'PERSONA CERCANA MUJER':'AMIGX',\n",
    "        'PERSONA CERCANA HOMBRE':'AMIGX',\n",
    "        'AMIGA':'AMIGX',\n",
    "        'AMIGO':'AMIGX',\n",
    "        'CONOCIDA':'OTRX',\n",
    "        'CONOCIDO':'OTRX',\n",
    "        'RELACION LABORAL':'OTRX',\n",
    "        'OTRA':'OTRX',\n",
    "    },\n",
    "    'religion':{\n",
    "        'NINGUNA':'NINGUNA',\n",
    "        'CATOLICA':'SI',\n",
    "        'CRISTIANA':'SI',\n",
    "        'OTRA':'SI',\n",
    "        'MORMONA':'SI',\n",
    "        'TESTIGA DE JEHOVA':'SI',\n",
    "        'BUDISTA':'SI',\n",
    "        'JUDIA':'SI',\n",
    "        'ANGLICANA':'SI',\n",
    "        'MUSULMANA':'SI',\n",
    "    },\n",
    "}"
   ],
   "outputs": [],
   "metadata": {}
  },
  {
   "cell_type": "markdown",
   "source": [
    "#### Auxiliar para crear rangos de variables numéricas"
   ],
   "metadata": {}
  },
  {
   "cell_type": "code",
   "execution_count": 9,
   "source": [
    "N_BINS = 6\n",
    "\n",
    "aux_dict = {}\n",
    "for col in clean_dict['vars_num']:\n",
    "    # Utiliza el método de la Clase para limpiar la columna numérica\n",
    "    new_col = df[col].map(ile.clean_number).astype(float)\n",
    "    # Crea los rangos tal que cada bin contenga (aprox) el mismo número de registros\n",
    "    orig_bins = qcut(new_col, q=N_BINS, retbins=True, duplicates='drop')[-1]\n",
    "    # Guarda los puntos de corte (con excepción del último porque el algoritmo ya se encarga de la cota superior)\n",
    "    aux_dict[col] = list(orig_bins[:-1])\n",
    "\n",
    "# Así es la propuesta preliminar de rangos para las variables numéricas\n",
    "display(aux_dict)"
   ],
   "outputs": [
    {
     "output_type": "display_data",
     "data": {
      "text/plain": [
       "{'edad': [11.0, 20.0, 22.0, 25.0, 28.0, 32.0],\n",
       " 'menarca': [0.0, 11.0, 12.0, 13.0, 14.0],\n",
       " 'fsexual': [0.0, 15.0, 16.0, 17.0, 18.0, 19.0],\n",
       " 'sememb': [0.0, 5.0, 6.0, 7.0, 8.0, 9.0],\n",
       " 'nhijos': [0.0, 1.0, 2.0],\n",
       " 'gesta': [0.0, 1.0, 2.0, 3.0, 4.0],\n",
       " 'c_num': [0.0, 1.0, 2.0],\n",
       " 'p_semgest': [0.0, 5.0, 6.0, 7.0, 8.0, 9.0],\n",
       " 'p_diasgesta': [0.0, 1.0, 2.0, 3.0, 4.0, 5.0]}"
      ]
     },
     "metadata": {}
    }
   ],
   "metadata": {}
  },
  {
   "cell_type": "markdown",
   "source": [
    "### Creación de variables"
   ],
   "metadata": {}
  },
  {
   "cell_type": "code",
   "execution_count": 10,
   "source": [
    "# Diccionario para crear variables\n",
    "vars_dict = {}\n",
    "\n",
    "# Para calcular la diferencia entre edades\n",
    "vars_dict['edad_1a_menst'] = 'menarca'\n",
    "vars_dict['edad_vida_sex'] = 'fsexual'\n",
    "vars_dict['edad_actual'] = 'edad'\n",
    "\n",
    "# Para comparar los métodos anticonceptivos\n",
    "vars_dict['metodo_antes'] = 'anticonceptivo'\n",
    "vars_dict['metodo_despues'] = 'panticoncep'"
   ],
   "outputs": [],
   "metadata": {}
  },
  {
   "cell_type": "markdown",
   "source": [
    "## Transformar"
   ],
   "metadata": {}
  },
  {
   "cell_type": "markdown",
   "source": [
    "### Limpieza y creación de variables"
   ],
   "metadata": {}
  },
  {
   "cell_type": "code",
   "execution_count": 11,
   "source": [
    "df, cluster_cols = ile.wrangling_ile(df, clean_dict, vars_dict, export_result=True)"
   ],
   "outputs": [
    {
     "output_type": "stream",
     "name": "stdout",
     "text": [
      "Archivo: interrupcion_embarazo_clean.csv fue exportado exitosamente en: /Users/efraflores/Desktop/EF/Contests/Datathon_CDMX/data\n"
     ]
    }
   ],
   "metadata": {}
  },
  {
   "cell_type": "markdown",
   "source": [
    "### Columnas para clustering"
   ],
   "metadata": {}
  },
  {
   "cell_type": "code",
   "execution_count": 12,
   "source": [
    "print(f'Las {len(cluster_cols)} columnas para clustering son:\\n{cluster_cols}')\n",
    "df.sample()"
   ],
   "outputs": [
    {
     "output_type": "stream",
     "name": "stdout",
     "text": [
      "Las 38 columnas para clustering son:\n",
      "['antes_vs_despues', 'antes_vs_despues_detalle', 'anticonceptivo', 'autoref', 'c_dolor', 'cconsejo', 'consejeria', 'desc_derechohab', 'desc_servicio', 'edad_vs_fsexual', 'edad_vs_menarca', 'edocivil_descripcion', 'fsexual_vs_menarca', 'motiles', 'naborto', 'ncesarea', 'nile', 'nivel_edu', 'npartos', 'ocupacion', 'p_consent', 'panticoncep', 'parentesco', 'procile_completa', 'procile_simplificada', 'rango_c_num', 'rango_edad', 'rango_fsexual', 'rango_gesta', 'rango_menarca', 'rango_nhijos', 'rango_p_diasgesta', 'rango_p_semgest', 'rango_sememb', 'religion', 'resultado_ile', 's_complica', 'tanalgesico']\n"
     ]
    },
    {
     "output_type": "execute_result",
     "data": {
      "text/html": [
       "<div>\n",
       "<style scoped>\n",
       "    .dataframe tbody tr th:only-of-type {\n",
       "        vertical-align: middle;\n",
       "    }\n",
       "\n",
       "    .dataframe tbody tr th {\n",
       "        vertical-align: top;\n",
       "    }\n",
       "\n",
       "    .dataframe thead th {\n",
       "        text-align: right;\n",
       "    }\n",
       "</style>\n",
       "<table border=\"1\" class=\"dataframe\">\n",
       "  <thead>\n",
       "    <tr style=\"text-align: right;\">\n",
       "      <th></th>\n",
       "      <th>año</th>\n",
       "      <th>mes</th>\n",
       "      <th>fingreso</th>\n",
       "      <th>autoref</th>\n",
       "      <th>edocivil_descripcion</th>\n",
       "      <th>edad</th>\n",
       "      <th>desc_derechohab</th>\n",
       "      <th>nivel_edu</th>\n",
       "      <th>ocupacion</th>\n",
       "      <th>religion</th>\n",
       "      <th>...</th>\n",
       "      <th>rango_nhijos</th>\n",
       "      <th>rango_gesta</th>\n",
       "      <th>rango_c_num</th>\n",
       "      <th>rango_p_semgest</th>\n",
       "      <th>rango_p_diasgesta</th>\n",
       "      <th>rango_fsexual_vs_menarca</th>\n",
       "      <th>rango_edad_vs_menarca</th>\n",
       "      <th>rango_edad_vs_fsexual</th>\n",
       "      <th>antes_vs_despues</th>\n",
       "      <th>antes_vs_despues_detalle</th>\n",
       "    </tr>\n",
       "  </thead>\n",
       "  <tbody>\n",
       "    <tr>\n",
       "      <th>48374</th>\n",
       "      <td>2017.0</td>\n",
       "      <td>MAYO</td>\n",
       "      <td>2017-05-29</td>\n",
       "      <td>DESCONOCIDO</td>\n",
       "      <td>SOLTERX</td>\n",
       "      <td>22.0</td>\n",
       "      <td>NINGUNO</td>\n",
       "      <td>PREPARATORIA</td>\n",
       "      <td>EMPLEADX</td>\n",
       "      <td>SI</td>\n",
       "      <td>...</td>\n",
       "      <td>00</td>\n",
       "      <td>01</td>\n",
       "      <td>DESCONOCIDO</td>\n",
       "      <td>01 a 05</td>\n",
       "      <td>04</td>\n",
       "      <td>&gt;= 07</td>\n",
       "      <td>09 a 12</td>\n",
       "      <td>00</td>\n",
       "      <td>DIFERENTE</td>\n",
       "      <td>antes: NINGUNO, después: PASTILLA</td>\n",
       "    </tr>\n",
       "  </tbody>\n",
       "</table>\n",
       "<p>1 rows × 69 columns</p>\n",
       "</div>"
      ],
      "text/plain": [
       "          año   mes    fingreso      autoref edocivil_descripcion  edad  \\\n",
       "48374  2017.0  MAYO  2017-05-29  DESCONOCIDO              SOLTERX  22.0   \n",
       "\n",
       "      desc_derechohab     nivel_edu ocupacion religion  ... rango_nhijos  \\\n",
       "48374         NINGUNO  PREPARATORIA  EMPLEADX       SI  ...           00   \n",
       "\n",
       "      rango_gesta  rango_c_num rango_p_semgest rango_p_diasgesta  \\\n",
       "48374          01  DESCONOCIDO         01 a 05                04   \n",
       "\n",
       "      rango_fsexual_vs_menarca rango_edad_vs_menarca rango_edad_vs_fsexual  \\\n",
       "48374                    >= 07               09 a 12                    00   \n",
       "\n",
       "      antes_vs_despues           antes_vs_despues_detalle  \n",
       "48374        DIFERENTE  antes: NINGUNO, después: PASTILLA  \n",
       "\n",
       "[1 rows x 69 columns]"
      ]
     },
     "metadata": {},
     "execution_count": 12
    }
   ],
   "metadata": {}
  }
 ],
 "metadata": {
  "orig_nbformat": 4,
  "language_info": {
   "name": "python",
   "version": "3.9.1",
   "mimetype": "text/x-python",
   "codemirror_mode": {
    "name": "ipython",
    "version": 3
   },
   "pygments_lexer": "ipython3",
   "nbconvert_exporter": "python",
   "file_extension": ".py"
  },
  "kernelspec": {
   "name": "python3",
   "display_name": "Python 3.9.1 64-bit ('venv': venv)"
  },
  "interpreter": {
   "hash": "3d6254c2a4489d24e251f2cd74a7554b2c853c1e9726258dfe363beb22972a7a"
  }
 },
 "nbformat": 4,
 "nbformat_minor": 2
}