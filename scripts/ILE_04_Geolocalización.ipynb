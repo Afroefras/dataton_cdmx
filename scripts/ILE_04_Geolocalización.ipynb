{
 "cells": [
  {
   "cell_type": "markdown",
   "metadata": {},
   "source": [
    "# Geolocalización"
   ]
  },
  {
   "cell_type": "markdown",
   "metadata": {},
   "source": [
    "## Parámetros"
   ]
  },
  {
   "cell_type": "code",
   "execution_count": 7,
   "metadata": {},
   "outputs": [],
   "source": [
    "BASE_DIR = '/Users/efraflores/Desktop/EF/Contests/Datathon_CDMX/data' # Mac\n",
    "# BASE_DIR = r'D:\\Users\\efras\\Documents\\EF\\Contests\\Datathon_CDMX\\data' # Windows\n",
    "ILE_NAME = 'ile_limpio_cluster'\n",
    "GEO_NAME = 'localidades'"
   ]
  },
  {
   "cell_type": "markdown",
   "metadata": {},
   "source": [
    "## Importar"
   ]
  },
  {
   "cell_type": "markdown",
   "metadata": {},
   "source": [
    "### Clases"
   ]
  },
  {
   "cell_type": "code",
   "execution_count": 8,
   "metadata": {},
   "outputs": [],
   "source": [
    "from mariachis.localidades import GeoLoc\n",
    "\n",
    "ile_class = GeoLoc(BASE_DIR, ILE_NAME)\n",
    "geo_class = GeoLoc(BASE_DIR, GEO_NAME, iso_country_code='MX')"
   ]
  },
  {
   "cell_type": "markdown",
   "metadata": {},
   "source": [
    "### ILE limpio y con cluster"
   ]
  },
  {
   "cell_type": "code",
   "execution_count": 9,
   "metadata": {},
   "outputs": [
    {
     "name": "stdout",
     "output_type": "stream",
     "text": [
      "Archivo con nombre ile_limpio_cluster.csv fue encontrado en:\n",
      "/Users/efraflores/Desktop/EF/Contests/Datathon_CDMX/data\n",
      "Con 79383 renglones y 73 columnas\n"
     ]
    },
    {
     "data": {
      "text/html": [
       "<div>\n",
       "<style scoped>\n",
       "    .dataframe tbody tr th:only-of-type {\n",
       "        vertical-align: middle;\n",
       "    }\n",
       "\n",
       "    .dataframe tbody tr th {\n",
       "        vertical-align: top;\n",
       "    }\n",
       "\n",
       "    .dataframe thead th {\n",
       "        text-align: right;\n",
       "    }\n",
       "</style>\n",
       "<table border=\"1\" class=\"dataframe\">\n",
       "  <thead>\n",
       "    <tr style=\"text-align: right;\">\n",
       "      <th></th>\n",
       "      <th>año</th>\n",
       "      <th>mes</th>\n",
       "      <th>fingreso</th>\n",
       "      <th>autoref</th>\n",
       "      <th>edocivil_descripcion</th>\n",
       "      <th>edad</th>\n",
       "      <th>desc_derechohab</th>\n",
       "      <th>nivel_edu</th>\n",
       "      <th>ocupacion</th>\n",
       "      <th>religion</th>\n",
       "      <th>...</th>\n",
       "      <th>rango_p_diasgesta</th>\n",
       "      <th>rango_fsexual_vs_menarca</th>\n",
       "      <th>rango_edad_vs_menarca</th>\n",
       "      <th>rango_edad_vs_fsexual</th>\n",
       "      <th>antes_vs_despues</th>\n",
       "      <th>antes_vs_despues_detalle</th>\n",
       "      <th>cluster</th>\n",
       "      <th>nombre</th>\n",
       "      <th>conclusión general</th>\n",
       "      <th>características de minorías</th>\n",
       "    </tr>\n",
       "  </thead>\n",
       "  <tbody>\n",
       "    <tr>\n",
       "      <th>23236</th>\n",
       "      <td>2017.0</td>\n",
       "      <td>ENERO</td>\n",
       "      <td>2017-01-27</td>\n",
       "      <td>SI</td>\n",
       "      <td>UNION_LIBRE</td>\n",
       "      <td>20.0</td>\n",
       "      <td>DESCONOCIDO</td>\n",
       "      <td>SECUNDARIA</td>\n",
       "      <td>TRAB_HOGAR_NO_REMUNERADX</td>\n",
       "      <td>DESCONOCIDO</td>\n",
       "      <td>...</td>\n",
       "      <td>&gt;= 06</td>\n",
       "      <td>01 a 03</td>\n",
       "      <td>01 a 08</td>\n",
       "      <td>05 a 08</td>\n",
       "      <td>DIFERENTE</td>\n",
       "      <td>antes: DESCONOCIDO, después: DIU</td>\n",
       "      <td>I</td>\n",
       "      <td>Madres maduras con pareja en unión libre</td>\n",
       "      <td>Trabajadorx del hogar no remuneradx de 30-35 a...</td>\n",
       "      <td>Han tenido abortos y/o cesáreas</td>\n",
       "    </tr>\n",
       "  </tbody>\n",
       "</table>\n",
       "<p>1 rows × 73 columns</p>\n",
       "</div>"
      ],
      "text/plain": [
       "          año    mes    fingreso autoref edocivil_descripcion  edad  \\\n",
       "23236  2017.0  ENERO  2017-01-27      SI          UNION_LIBRE  20.0   \n",
       "\n",
       "      desc_derechohab   nivel_edu                 ocupacion     religion  ...  \\\n",
       "23236     DESCONOCIDO  SECUNDARIA  TRAB_HOGAR_NO_REMUNERADX  DESCONOCIDO  ...   \n",
       "\n",
       "      rango_p_diasgesta rango_fsexual_vs_menarca rango_edad_vs_menarca  \\\n",
       "23236             >= 06                  01 a 03               01 a 08   \n",
       "\n",
       "      rango_edad_vs_fsexual antes_vs_despues  \\\n",
       "23236               05 a 08        DIFERENTE   \n",
       "\n",
       "               antes_vs_despues_detalle cluster  \\\n",
       "23236  antes: DESCONOCIDO, después: DIU       I   \n",
       "\n",
       "                                         nombre  \\\n",
       "23236  Madres maduras con pareja en unión libre   \n",
       "\n",
       "                                      conclusión general  \\\n",
       "23236  Trabajadorx del hogar no remuneradx de 30-35 a...   \n",
       "\n",
       "           características de minorías  \n",
       "23236  Han tenido abortos y/o cesáreas  \n",
       "\n",
       "[1 rows x 73 columns]"
      ]
     },
     "execution_count": 9,
     "metadata": {},
     "output_type": "execute_result"
    }
   ],
   "source": [
    "ile = ile_class.full_import(api=False)\n",
    "ile.sample()"
   ]
  },
  {
   "cell_type": "markdown",
   "metadata": {},
   "source": [
    "### Localidades por URL"
   ]
  },
  {
   "cell_type": "code",
   "execution_count": 10,
   "metadata": {},
   "outputs": [
    {
     "name": "stdout",
     "output_type": "stream",
     "text": [
      "Archivo: localidades.csv.csv fue exportado exitosamente en:\n",
      "/Users/efraflores/Desktop/EF/Contests/Datathon_CDMX/data\n"
     ]
    },
    {
     "data": {
      "text/html": [
       "<div>\n",
       "<style scoped>\n",
       "    .dataframe tbody tr th:only-of-type {\n",
       "        vertical-align: middle;\n",
       "    }\n",
       "\n",
       "    .dataframe tbody tr th {\n",
       "        vertical-align: top;\n",
       "    }\n",
       "\n",
       "    .dataframe thead th {\n",
       "        text-align: right;\n",
       "    }\n",
       "</style>\n",
       "<table border=\"1\" class=\"dataframe\">\n",
       "  <thead>\n",
       "    <tr style=\"text-align: right;\">\n",
       "      <th></th>\n",
       "      <th>country_code</th>\n",
       "      <th>postal_code</th>\n",
       "      <th>place_name</th>\n",
       "      <th>state_name</th>\n",
       "      <th>state_code</th>\n",
       "      <th>province_name</th>\n",
       "      <th>province_code</th>\n",
       "      <th>community_name</th>\n",
       "      <th>community_code</th>\n",
       "      <th>lat</th>\n",
       "      <th>lon</th>\n",
       "      <th>accuracy</th>\n",
       "    </tr>\n",
       "  </thead>\n",
       "  <tbody>\n",
       "    <tr>\n",
       "      <th>131582</th>\n",
       "      <td>MX</td>\n",
       "      <td>90438</td>\n",
       "      <td>La Concepción</td>\n",
       "      <td>Tlaxcala</td>\n",
       "      <td>29</td>\n",
       "      <td>Tetla de la Solidaridad</td>\n",
       "      <td>031</td>\n",
       "      <td></td>\n",
       "      <td></td>\n",
       "      <td>19.4823</td>\n",
       "      <td>-98.0764</td>\n",
       "      <td>3</td>\n",
       "    </tr>\n",
       "  </tbody>\n",
       "</table>\n",
       "</div>"
      ],
      "text/plain": [
       "       country_code postal_code     place_name state_name state_code  \\\n",
       "131582           MX       90438  La Concepción   Tlaxcala         29   \n",
       "\n",
       "                  province_name province_code community_name community_code  \\\n",
       "131582  Tetla de la Solidaridad           031                                 \n",
       "\n",
       "            lat       lon accuracy  \n",
       "131582  19.4823  -98.0764        3  "
      ]
     },
     "execution_count": 10,
     "metadata": {},
     "output_type": "execute_result"
    }
   ],
   "source": [
    "geo = geo_class.get_data()\n",
    "geo.sample()"
   ]
  },
  {
   "cell_type": "markdown",
   "metadata": {},
   "source": [
    "## Agrupación ILE"
   ]
  },
  {
   "cell_type": "code",
   "execution_count": 11,
   "metadata": {},
   "outputs": [
    {
     "data": {
      "text/plain": [
       "count      674.000000\n",
       "mean       117.778932\n",
       "std        659.738971\n",
       "min          1.000000\n",
       "50%          3.000000\n",
       "90%         51.000000\n",
       "91%         57.430000\n",
       "92%         73.160000\n",
       "93%        104.000000\n",
       "94%        174.860000\n",
       "95%        388.250000\n",
       "96%        544.080000\n",
       "97%        832.920000\n",
       "98%       1836.860000\n",
       "99%       3118.220000\n",
       "max      10057.000000\n",
       "Name: TOTAL, dtype: float64"
      ]
     },
     "execution_count": 11,
     "metadata": {},
     "output_type": "execute_result"
    }
   ],
   "source": [
    "from numpy import percentile\n",
    "\n",
    "ile_group = ile.assign(n=1).pivot_table(index=['entidad','alc_o_municipio'], columns='nombre', aggfunc={'n':'count'}, fill_value=0)\n",
    "ile_group.columns = [x[-1] for x in ile_group.columns]\n",
    "ile_group['TOTAL'] = ile_group.sum(axis=1)\n",
    "ile_group['TOTAL'].describe([i/100 for i in range(90,100)])\n"
   ]
  },
  {
   "cell_type": "code",
   "execution_count": 12,
   "metadata": {},
   "outputs": [],
   "source": [
    "ile_group = ile_group[ile_group['TOTAL']>=100].copy()\n",
    "aux = ile_group.copy()\n",
    "for col in aux.columns:\n",
    "    ile_group[col] = aux[col]/aux['TOTAL']\n",
    "ile_group = ile_group.drop('TOTAL', axis=1)"
   ]
  },
  {
   "cell_type": "code",
   "execution_count": 16,
   "metadata": {},
   "outputs": [
    {
     "name": "stdout",
     "output_type": "stream",
     "text": [
      "Archivo: ile_limpio_cluster_group.csv.csv fue exportado exitosamente en:\n",
      "/Users/efraflores/Desktop/EF/Contests/Datathon_CDMX/data\n"
     ]
    }
   ],
   "source": [
    "from sklearn.cluster import KMeans\n",
    "\n",
    "ile_group['cluster'], alc_cluster = ile_class.make_clusters(ile_group[[x for x in ile_group.columns if x!='cluster']], cluster_obj=KMeans)\n",
    "ile_class.export_csv(ile_group, name_suffix='group', sep='\\t', encoding='utf-16')"
   ]
  },
  {
   "cell_type": "markdown",
   "metadata": {},
   "source": [
    "## Municipios"
   ]
  },
  {
   "cell_type": "markdown",
   "metadata": {},
   "source": [
    "### Transformación"
   ]
  },
  {
   "cell_type": "code",
   "execution_count": null,
   "metadata": {},
   "outputs": [],
   "source": [
    "geo = geo_class.wrangling_geo(geo)\n",
    "geo.sample()"
   ]
  },
  {
   "cell_type": "markdown",
   "metadata": {},
   "source": [
    "### Mapa"
   ]
  },
  {
   "cell_type": "code",
   "execution_count": null,
   "metadata": {},
   "outputs": [],
   "source": [
    "geo['boundary'].plot()"
   ]
  },
  {
   "cell_type": "markdown",
   "metadata": {},
   "source": [
    "## Unión"
   ]
  },
  {
   "cell_type": "code",
   "execution_count": null,
   "metadata": {},
   "outputs": [],
   "source": [
    "df = ile_class.merge_with_ile(ile_group, geo)\n",
    "print(df.shape)\n",
    "df.sample()"
   ]
  }
 ],
 "metadata": {
  "interpreter": {
   "hash": "bf5c91e87fa3f8c0a87f775dea31b1f562cb136b62dbdf18b0d4eb82d33f0ab4"
  },
  "kernelspec": {
   "display_name": "Python 3.9.1 64-bit ('venv': venv)",
   "name": "python3"
  },
  "language_info": {
   "codemirror_mode": {
    "name": "ipython",
    "version": 3
   },
   "file_extension": ".py",
   "mimetype": "text/x-python",
   "name": "python",
   "nbconvert_exporter": "python",
   "pygments_lexer": "ipython3",
   "version": "3.9.1"
  },
  "orig_nbformat": 4
 },
 "nbformat": 4,
 "nbformat_minor": 2
}
