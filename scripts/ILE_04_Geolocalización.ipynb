{
 "cells": [
  {
   "cell_type": "markdown",
   "metadata": {},
   "source": [
    "# Geolocalización"
   ]
  },
  {
   "cell_type": "markdown",
   "metadata": {},
   "source": [
    "## Parámetros"
   ]
  },
  {
   "cell_type": "code",
   "execution_count": 1,
   "metadata": {},
   "outputs": [],
   "source": [
    "BASE_DIR = '/Users/efraflores/Desktop/EF/Contests/Datathon_CDMX/data' # Mac\n",
    "# BASE_DIR = r'D:\\Users\\efras\\Documents\\EF\\Contests\\Datathon_CDMX\\data' # Windows\n",
    "ILE_NAME = 'ile_limpio_cluster'\n",
    "GEO_NAME = 'localidades'"
   ]
  },
  {
   "cell_type": "markdown",
   "metadata": {},
   "source": [
    "## Importar"
   ]
  },
  {
   "cell_type": "markdown",
   "metadata": {},
   "source": [
    "### Clases"
   ]
  },
  {
   "cell_type": "code",
   "execution_count": 2,
   "metadata": {},
   "outputs": [
    {
     "data": {
      "text/html": [
       "        <script type=\"text/javascript\">\n",
       "        window.PlotlyConfig = {MathJaxConfig: 'local'};\n",
       "        if (window.MathJax) {MathJax.Hub.Config({SVG: {font: \"STIX-Web\"}});}\n",
       "        if (typeof require !== 'undefined') {\n",
       "        require.undef(\"plotly\");\n",
       "        requirejs.config({\n",
       "            paths: {\n",
       "                'plotly': ['https://cdn.plot.ly/plotly-2.4.2.min']\n",
       "            }\n",
       "        });\n",
       "        require(['plotly'], function(Plotly) {\n",
       "            window._Plotly = Plotly;\n",
       "        });\n",
       "        }\n",
       "        </script>\n",
       "        "
      ]
     },
     "metadata": {},
     "output_type": "display_data"
    }
   ],
   "source": [
    "from mariachis.localidades import GeoLoc\n",
    "\n",
    "ile_class = GeoLoc(BASE_DIR, ILE_NAME)\n",
    "geo_class = GeoLoc(BASE_DIR, GEO_NAME, iso_country_code='MX')"
   ]
  },
  {
   "cell_type": "markdown",
   "metadata": {},
   "source": [
    "### ILE limpio y con cluster"
   ]
  },
  {
   "cell_type": "code",
   "execution_count": 3,
   "metadata": {},
   "outputs": [
    {
     "name": "stdout",
     "output_type": "stream",
     "text": [
      "Archivo con nombre ile_limpio_cluster.csv fue encontrado en\n",
      "/Users/efraflores/Desktop/EF/Contests/Datathon_CDMX/data\n",
      "Con 79383 renglones y 73 columnas\n"
     ]
    },
    {
     "data": {
      "text/html": [
       "<div>\n",
       "<style scoped>\n",
       "    .dataframe tbody tr th:only-of-type {\n",
       "        vertical-align: middle;\n",
       "    }\n",
       "\n",
       "    .dataframe tbody tr th {\n",
       "        vertical-align: top;\n",
       "    }\n",
       "\n",
       "    .dataframe thead th {\n",
       "        text-align: right;\n",
       "    }\n",
       "</style>\n",
       "<table border=\"1\" class=\"dataframe\">\n",
       "  <thead>\n",
       "    <tr style=\"text-align: right;\">\n",
       "      <th></th>\n",
       "      <th>año</th>\n",
       "      <th>mes</th>\n",
       "      <th>fingreso</th>\n",
       "      <th>autoref</th>\n",
       "      <th>edocivil_descripcion</th>\n",
       "      <th>edad</th>\n",
       "      <th>desc_derechohab</th>\n",
       "      <th>nivel_edu</th>\n",
       "      <th>ocupacion</th>\n",
       "      <th>religion</th>\n",
       "      <th>...</th>\n",
       "      <th>rango_p_diasgesta</th>\n",
       "      <th>rango_fsexual_vs_menarca</th>\n",
       "      <th>rango_edad_vs_menarca</th>\n",
       "      <th>rango_edad_vs_fsexual</th>\n",
       "      <th>antes_vs_despues</th>\n",
       "      <th>antes_vs_despues_detalle</th>\n",
       "      <th>cluster</th>\n",
       "      <th>nombre</th>\n",
       "      <th>conclusión general</th>\n",
       "      <th>características de minorías</th>\n",
       "    </tr>\n",
       "  </thead>\n",
       "  <tbody>\n",
       "    <tr>\n",
       "      <th>23988</th>\n",
       "      <td>2019.0</td>\n",
       "      <td>FEBRERO</td>\n",
       "      <td>2019-02-05</td>\n",
       "      <td>DESCONOCIDO</td>\n",
       "      <td>CASADX</td>\n",
       "      <td>30.0</td>\n",
       "      <td>NINGUNO</td>\n",
       "      <td>PREPARATORIA</td>\n",
       "      <td>TRAB_HOGAR_NO_REMUNERADX</td>\n",
       "      <td>NINGUNA</td>\n",
       "      <td>...</td>\n",
       "      <td>DESCONOCIDO</td>\n",
       "      <td>01 a 03</td>\n",
       "      <td>&gt;= 18</td>\n",
       "      <td>&gt;= 13</td>\n",
       "      <td>DIFERENTE</td>\n",
       "      <td>antes: NINGUNO, después: CONDON</td>\n",
       "      <td>F</td>\n",
       "      <td>Jóvenes de 22-25 desempleadas con decisión de ...</td>\n",
       "      <td>Alta frecuencia en 2020, personas de diferente...</td>\n",
       "      <td>Personas separadas. Personas desempleadas. Per...</td>\n",
       "    </tr>\n",
       "  </tbody>\n",
       "</table>\n",
       "<p>1 rows × 73 columns</p>\n",
       "</div>"
      ],
      "text/plain": [
       "          año      mes    fingreso      autoref edocivil_descripcion  edad  \\\n",
       "23988  2019.0  FEBRERO  2019-02-05  DESCONOCIDO               CASADX  30.0   \n",
       "\n",
       "      desc_derechohab     nivel_edu                 ocupacion religion  ...  \\\n",
       "23988         NINGUNO  PREPARATORIA  TRAB_HOGAR_NO_REMUNERADX  NINGUNA  ...   \n",
       "\n",
       "      rango_p_diasgesta rango_fsexual_vs_menarca rango_edad_vs_menarca  \\\n",
       "23988       DESCONOCIDO                  01 a 03                 >= 18   \n",
       "\n",
       "      rango_edad_vs_fsexual antes_vs_despues         antes_vs_despues_detalle  \\\n",
       "23988                 >= 13        DIFERENTE  antes: NINGUNO, después: CONDON   \n",
       "\n",
       "      cluster                                             nombre  \\\n",
       "23988       F  Jóvenes de 22-25 desempleadas con decisión de ...   \n",
       "\n",
       "                                      conclusión general  \\\n",
       "23988  Alta frecuencia en 2020, personas de diferente...   \n",
       "\n",
       "                             características de minorías  \n",
       "23988  Personas separadas. Personas desempleadas. Per...  \n",
       "\n",
       "[1 rows x 73 columns]"
      ]
     },
     "execution_count": 3,
     "metadata": {},
     "output_type": "execute_result"
    }
   ],
   "source": [
    "ile = ile_class.full_import(api=False)\n",
    "ile.sample()"
   ]
  },
  {
   "cell_type": "markdown",
   "metadata": {},
   "source": [
    "### Localidades por URL"
   ]
  },
  {
   "cell_type": "code",
   "execution_count": 4,
   "metadata": {},
   "outputs": [
    {
     "name": "stdout",
     "output_type": "stream",
     "text": [
      "Archivo: localidades.csv fue exportado exitosamente en:\n",
      "/Users/efraflores/Desktop/EF/Contests/Datathon_CDMX/data\n"
     ]
    },
    {
     "data": {
      "text/html": [
       "<div>\n",
       "<style scoped>\n",
       "    .dataframe tbody tr th:only-of-type {\n",
       "        vertical-align: middle;\n",
       "    }\n",
       "\n",
       "    .dataframe tbody tr th {\n",
       "        vertical-align: top;\n",
       "    }\n",
       "\n",
       "    .dataframe thead th {\n",
       "        text-align: right;\n",
       "    }\n",
       "</style>\n",
       "<table border=\"1\" class=\"dataframe\">\n",
       "  <thead>\n",
       "    <tr style=\"text-align: right;\">\n",
       "      <th></th>\n",
       "      <th>country_code</th>\n",
       "      <th>postal_code</th>\n",
       "      <th>place_name</th>\n",
       "      <th>state_name</th>\n",
       "      <th>state_code</th>\n",
       "      <th>province_name</th>\n",
       "      <th>province_code</th>\n",
       "      <th>community_name</th>\n",
       "      <th>community_code</th>\n",
       "      <th>lat</th>\n",
       "      <th>lon</th>\n",
       "      <th>accuracy</th>\n",
       "    </tr>\n",
       "  </thead>\n",
       "  <tbody>\n",
       "    <tr>\n",
       "      <th>104181</th>\n",
       "      <td>MX</td>\n",
       "      <td>76814</td>\n",
       "      <td>Loma de la Valla (Buenavista de la Valla)</td>\n",
       "      <td>Querétaro</td>\n",
       "      <td>22</td>\n",
       "      <td>San Juan del Río</td>\n",
       "      <td>016</td>\n",
       "      <td></td>\n",
       "      <td></td>\n",
       "      <td>20.4837</td>\n",
       "      <td>-100.0061</td>\n",
       "      <td>3</td>\n",
       "    </tr>\n",
       "  </tbody>\n",
       "</table>\n",
       "</div>"
      ],
      "text/plain": [
       "       country_code postal_code                                 place_name  \\\n",
       "104181           MX       76814  Loma de la Valla (Buenavista de la Valla)   \n",
       "\n",
       "       state_name state_code     province_name province_code community_name  \\\n",
       "104181  Querétaro         22  San Juan del Río           016                  \n",
       "\n",
       "       community_code      lat        lon accuracy  \n",
       "104181                 20.4837  -100.0061        3  "
      ]
     },
     "execution_count": 4,
     "metadata": {},
     "output_type": "execute_result"
    }
   ],
   "source": [
    "geo = geo_class.get_data()\n",
    "geo.sample()"
   ]
  },
  {
   "cell_type": "markdown",
   "metadata": {},
   "source": [
    "## Municipios"
   ]
  },
  {
   "cell_type": "markdown",
   "metadata": {},
   "source": [
    "### Transformación"
   ]
  },
  {
   "cell_type": "code",
   "execution_count": 5,
   "metadata": {},
   "outputs": [
    {
     "name": "stdout",
     "output_type": "stream",
     "text": [
      "Archivo: localidades_geoloc.csv fue exportado exitosamente en:\n",
      "/Users/efraflores/Desktop/EF/Contests/Datathon_CDMX/data\n"
     ]
    },
    {
     "data": {
      "text/html": [
       "<div>\n",
       "<style scoped>\n",
       "    .dataframe tbody tr th:only-of-type {\n",
       "        vertical-align: middle;\n",
       "    }\n",
       "\n",
       "    .dataframe tbody tr th {\n",
       "        vertical-align: top;\n",
       "    }\n",
       "\n",
       "    .dataframe thead th {\n",
       "        text-align: right;\n",
       "    }\n",
       "</style>\n",
       "<table border=\"1\" class=\"dataframe\">\n",
       "  <thead>\n",
       "    <tr style=\"text-align: right;\">\n",
       "      <th></th>\n",
       "      <th>group</th>\n",
       "      <th>geometry</th>\n",
       "      <th>country_code</th>\n",
       "      <th>state_name</th>\n",
       "      <th>state_code</th>\n",
       "      <th>province_name</th>\n",
       "      <th>province_code</th>\n",
       "      <th>lat</th>\n",
       "      <th>lon</th>\n",
       "      <th>area</th>\n",
       "      <th>boundary</th>\n",
       "      <th>centroid</th>\n",
       "      <th>convex_hull</th>\n",
       "      <th>centroid_lat</th>\n",
       "      <th>centroid_lon</th>\n",
       "    </tr>\n",
       "  </thead>\n",
       "  <tbody>\n",
       "    <tr>\n",
       "      <th>1683</th>\n",
       "      <td>Puebla, Puebla</td>\n",
       "      <td>MULTIPOLYGON (((-98.325 19.004, -98.325 19.007...</td>\n",
       "      <td>MX</td>\n",
       "      <td>Puebla</td>\n",
       "      <td>21</td>\n",
       "      <td>Puebla</td>\n",
       "      <td>114</td>\n",
       "      <td>19.0479</td>\n",
       "      <td>-98.1907</td>\n",
       "      <td>0.093684</td>\n",
       "      <td>MULTILINESTRING ((-98.325 19.004, -98.325 19.0...</td>\n",
       "      <td>POINT (-98.201 19.020)</td>\n",
       "      <td>POLYGON ((-98.203 18.799, -98.208 18.799, -98....</td>\n",
       "      <td>-98.201481</td>\n",
       "      <td>19.020144</td>\n",
       "    </tr>\n",
       "  </tbody>\n",
       "</table>\n",
       "</div>"
      ],
      "text/plain": [
       "               group                                           geometry  \\\n",
       "1683  Puebla, Puebla  MULTIPOLYGON (((-98.325 19.004, -98.325 19.007...   \n",
       "\n",
       "     country_code state_name state_code province_name province_code      lat  \\\n",
       "1683           MX     Puebla         21        Puebla           114  19.0479   \n",
       "\n",
       "           lon      area                                           boundary  \\\n",
       "1683  -98.1907  0.093684  MULTILINESTRING ((-98.325 19.004, -98.325 19.0...   \n",
       "\n",
       "                    centroid  \\\n",
       "1683  POINT (-98.201 19.020)   \n",
       "\n",
       "                                            convex_hull  centroid_lat  \\\n",
       "1683  POLYGON ((-98.203 18.799, -98.208 18.799, -98....    -98.201481   \n",
       "\n",
       "      centroid_lon  \n",
       "1683     19.020144  "
      ]
     },
     "execution_count": 5,
     "metadata": {},
     "output_type": "execute_result"
    }
   ],
   "source": [
    "geo = geo_class.wrangling_geo(geo)\n",
    "geo.sample()"
   ]
  },
  {
   "cell_type": "markdown",
   "metadata": {},
   "source": [
    "### Mapa"
   ]
  },
  {
   "cell_type": "code",
   "execution_count": 6,
   "metadata": {},
   "outputs": [
    {
     "data": {
      "text/plain": [
       "<AxesSubplot:>"
      ]
     },
     "execution_count": 6,
     "metadata": {},
     "output_type": "execute_result"
    },
    {
     "data": {
      "image/png": "[encoded data removed]",
      "text/plain": [
       "<Figure size 432x288 with 1 Axes>"
      ]
     },
     "metadata": {
      "needs_background": "light"
     },
     "output_type": "display_data"
    }
   ],
   "source": [
    "geo.plot('area')"
   ]
  },
  {
   "cell_type": "markdown",
   "metadata": {},
   "source": [
    "## Unión"
   ]
  },
  {
   "cell_type": "code",
   "execution_count": 7,
   "metadata": {},
   "outputs": [
    {
     "name": "stdout",
     "output_type": "stream",
     "text": [
      "Archivo: ile_limpio_cluster_geoloc.csv fue exportado exitosamente en:\n",
      "/Users/efraflores/Desktop/EF/Contests/Datathon_CDMX/data\n",
      "(68442, 90)\n"
     ]
    },
    {
     "data": {
      "text/html": [
       "<div>\n",
       "<style scoped>\n",
       "    .dataframe tbody tr th:only-of-type {\n",
       "        vertical-align: middle;\n",
       "    }\n",
       "\n",
       "    .dataframe tbody tr th {\n",
       "        vertical-align: top;\n",
       "    }\n",
       "\n",
       "    .dataframe thead th {\n",
       "        text-align: right;\n",
       "    }\n",
       "</style>\n",
       "<table border=\"1\" class=\"dataframe\">\n",
       "  <thead>\n",
       "    <tr style=\"text-align: right;\">\n",
       "      <th></th>\n",
       "      <th>index</th>\n",
       "      <th>año</th>\n",
       "      <th>mes</th>\n",
       "      <th>fingreso</th>\n",
       "      <th>autoref</th>\n",
       "      <th>edocivil_descripcion</th>\n",
       "      <th>edad</th>\n",
       "      <th>desc_derechohab</th>\n",
       "      <th>nivel_edu</th>\n",
       "      <th>ocupacion</th>\n",
       "      <th>...</th>\n",
       "      <th>province_name</th>\n",
       "      <th>province_code</th>\n",
       "      <th>lat</th>\n",
       "      <th>lon</th>\n",
       "      <th>area</th>\n",
       "      <th>boundary</th>\n",
       "      <th>centroid</th>\n",
       "      <th>convex_hull</th>\n",
       "      <th>centroid_lat</th>\n",
       "      <th>centroid_lon</th>\n",
       "    </tr>\n",
       "  </thead>\n",
       "  <tbody>\n",
       "    <tr>\n",
       "      <th>17391</th>\n",
       "      <td>31315</td>\n",
       "      <td>2020.0</td>\n",
       "      <td>ABRIL</td>\n",
       "      <td>2020-04-17</td>\n",
       "      <td>DESCONOCIDO</td>\n",
       "      <td>SOLTERX</td>\n",
       "      <td>19.0</td>\n",
       "      <td>NINGUNO</td>\n",
       "      <td>LICENCIATURA</td>\n",
       "      <td>ESTUDIANTE</td>\n",
       "      <td>...</td>\n",
       "      <td>Gustavo A. Madero</td>\n",
       "      <td>005</td>\n",
       "      <td>19.4787</td>\n",
       "      <td>-99.1147</td>\n",
       "      <td>0.037662</td>\n",
       "      <td>LINESTRING (-99.012 19.429, -99.012 19.429, -9...</td>\n",
       "      <td>POINT (-99.115 19.484)</td>\n",
       "      <td>POLYGON ((-99.118 19.342, -99.123 19.342, -99....</td>\n",
       "      <td>-99.115067</td>\n",
       "      <td>19.484446</td>\n",
       "    </tr>\n",
       "  </tbody>\n",
       "</table>\n",
       "<p>1 rows × 90 columns</p>\n",
       "</div>"
      ],
      "text/plain": [
       "       index     año    mes    fingreso      autoref edocivil_descripcion  \\\n",
       "17391  31315  2020.0  ABRIL  2020-04-17  DESCONOCIDO              SOLTERX   \n",
       "\n",
       "       edad desc_derechohab     nivel_edu   ocupacion  ...      province_name  \\\n",
       "17391  19.0         NINGUNO  LICENCIATURA  ESTUDIANTE  ...  Gustavo A. Madero   \n",
       "\n",
       "      province_code      lat       lon      area  \\\n",
       "17391           005  19.4787  -99.1147  0.037662   \n",
       "\n",
       "                                                boundary  \\\n",
       "17391  LINESTRING (-99.012 19.429, -99.012 19.429, -9...   \n",
       "\n",
       "                     centroid  \\\n",
       "17391  POINT (-99.115 19.484)   \n",
       "\n",
       "                                             convex_hull centroid_lat  \\\n",
       "17391  POLYGON ((-99.118 19.342, -99.123 19.342, -99....   -99.115067   \n",
       "\n",
       "      centroid_lon  \n",
       "17391    19.484446  \n",
       "\n",
       "[1 rows x 90 columns]"
      ]
     },
     "execution_count": 7,
     "metadata": {},
     "output_type": "execute_result"
    }
   ],
   "source": [
    "df = ile_class.merge_with_ile(ile, geo)\n",
    "print(df.shape)\n",
    "df.sample()"
   ]
  }
 ],
 "metadata": {
  "interpreter": {
   "hash": "bf5c91e87fa3f8c0a87f775dea31b1f562cb136b62dbdf18b0d4eb82d33f0ab4"
  },
  "kernelspec": {
   "display_name": "Python 3.9.1 64-bit ('venv': venv)",
   "name": "python3"
  },
  "language_info": {
   "codemirror_mode": {
    "name": "ipython",
    "version": 3
   },
   "file_extension": ".py",
   "mimetype": "text/x-python",
   "name": "python",
   "nbconvert_exporter": "python",
   "pygments_lexer": "ipython3",
   "version": "3.9.1"
  },
  "orig_nbformat": 4
 },
 "nbformat": 4,
 "nbformat_minor": 2
}
