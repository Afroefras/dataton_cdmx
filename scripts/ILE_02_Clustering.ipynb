{
 "cells": [
  {
   "cell_type": "markdown",
   "source": [
    "# Clustering"
   ],
   "metadata": {}
  },
  {
   "cell_type": "markdown",
   "source": [
    "## Parámetros"
   ],
   "metadata": {}
  },
  {
   "cell_type": "code",
   "execution_count": 5,
   "source": [
    "BASE_DIR = '/Users/efraflores/Desktop/EF/Contests/Datathon_CDMX/data' # Mac\n",
    "# BASE_DIR = r'D:\\Users\\efras\\Documents\\EF\\Contests\\Datathon_CDMX\\data' # Windows\n",
    "FILE_NAME = 'interrupcion_embarazo_clean'\n",
    "N_CLUSTERS = 10"
   ],
   "outputs": [],
   "metadata": {}
  },
  {
   "cell_type": "markdown",
   "source": [
    "## Importar"
   ],
   "metadata": {}
  },
  {
   "cell_type": "markdown",
   "source": [
    "### Clase"
   ],
   "metadata": {}
  },
  {
   "cell_type": "code",
   "execution_count": 2,
   "source": [
    "from mariachis.interrupcion_embarazo import InterrupcionEmbarazo\n",
    "\n",
    "ile = InterrupcionEmbarazo(BASE_DIR, FILE_NAME)\n",
    "print(ile)"
   ],
   "outputs": [
    {
     "output_type": "stream",
     "name": "stdout",
     "text": [
      "Directorio: \t/Users/efraflores/Desktop/EF/Contests/Datathon_CDMX/data\n"
     ]
    }
   ],
   "metadata": {}
  },
  {
   "cell_type": "markdown",
   "source": [
    "### Datos"
   ],
   "metadata": {}
  },
  {
   "cell_type": "code",
   "execution_count": 3,
   "source": [
    "df = ile.full_import(api=False)\n",
    "df.sample()"
   ],
   "outputs": [
    {
     "output_type": "stream",
     "name": "stdout",
     "text": [
      "Archivo con nombre interrupcion_embarazo_clean.csv fue encontrado en /Users/efraflores/Desktop/EF/Contests/Datathon_CDMX/data\n",
      "Con 79383 renglones y 69 columnas\n"
     ]
    },
    {
     "output_type": "execute_result",
     "data": {
      "text/html": [
       "<div>\n",
       "<style scoped>\n",
       "    .dataframe tbody tr th:only-of-type {\n",
       "        vertical-align: middle;\n",
       "    }\n",
       "\n",
       "    .dataframe tbody tr th {\n",
       "        vertical-align: top;\n",
       "    }\n",
       "\n",
       "    .dataframe thead th {\n",
       "        text-align: right;\n",
       "    }\n",
       "</style>\n",
       "<table border=\"1\" class=\"dataframe\">\n",
       "  <thead>\n",
       "    <tr style=\"text-align: right;\">\n",
       "      <th></th>\n",
       "      <th>año</th>\n",
       "      <th>mes</th>\n",
       "      <th>fingreso</th>\n",
       "      <th>autoref</th>\n",
       "      <th>edocivil_descripcion</th>\n",
       "      <th>edad</th>\n",
       "      <th>desc_derechohab</th>\n",
       "      <th>nivel_edu</th>\n",
       "      <th>ocupacion</th>\n",
       "      <th>religion</th>\n",
       "      <th>...</th>\n",
       "      <th>rango_nhijos</th>\n",
       "      <th>rango_gesta</th>\n",
       "      <th>rango_c_num</th>\n",
       "      <th>rango_p_semgest</th>\n",
       "      <th>rango_p_diasgesta</th>\n",
       "      <th>rango_fsexual_vs_menarca</th>\n",
       "      <th>rango_edad_vs_menarca</th>\n",
       "      <th>rango_edad_vs_fsexual</th>\n",
       "      <th>antes_vs_despues</th>\n",
       "      <th>antes_vs_despues_detalle</th>\n",
       "    </tr>\n",
       "  </thead>\n",
       "  <tbody>\n",
       "    <tr>\n",
       "      <th>52567</th>\n",
       "      <td>2017.0</td>\n",
       "      <td>MAYO</td>\n",
       "      <td>2017-05-02</td>\n",
       "      <td>DESCONOCIDO</td>\n",
       "      <td>SOLTERX</td>\n",
       "      <td>25.0</td>\n",
       "      <td>ALGUNO</td>\n",
       "      <td>PREPARATORIA</td>\n",
       "      <td>EMPLEADX</td>\n",
       "      <td>SI</td>\n",
       "      <td>...</td>\n",
       "      <td>02</td>\n",
       "      <td>03</td>\n",
       "      <td>DESCONOCIDO</td>\n",
       "      <td>06</td>\n",
       "      <td>03</td>\n",
       "      <td>01 a 03</td>\n",
       "      <td>09 a 12</td>\n",
       "      <td>09 a 12</td>\n",
       "      <td>IGUAL</td>\n",
       "      <td>antes: NINGUNO, después: NINGUNO</td>\n",
       "    </tr>\n",
       "  </tbody>\n",
       "</table>\n",
       "<p>1 rows × 69 columns</p>\n",
       "</div>"
      ],
      "text/plain": [
       "          año   mes    fingreso      autoref edocivil_descripcion  edad  \\\n",
       "52567  2017.0  MAYO  2017-05-02  DESCONOCIDO              SOLTERX  25.0   \n",
       "\n",
       "      desc_derechohab     nivel_edu ocupacion religion  ... rango_nhijos  \\\n",
       "52567          ALGUNO  PREPARATORIA  EMPLEADX       SI  ...           02   \n",
       "\n",
       "      rango_gesta  rango_c_num rango_p_semgest rango_p_diasgesta  \\\n",
       "52567          03  DESCONOCIDO              06                03   \n",
       "\n",
       "      rango_fsexual_vs_menarca rango_edad_vs_menarca rango_edad_vs_fsexual  \\\n",
       "52567                  01 a 03               09 a 12               09 a 12   \n",
       "\n",
       "      antes_vs_despues          antes_vs_despues_detalle  \n",
       "52567            IGUAL  antes: NINGUNO, después: NINGUNO  \n",
       "\n",
       "[1 rows x 69 columns]"
      ]
     },
     "metadata": {},
     "execution_count": 3
    }
   ],
   "metadata": {}
  },
  {
   "cell_type": "markdown",
   "source": [
    "### Columnas para clustering"
   ],
   "metadata": {}
  },
  {
   "cell_type": "code",
   "execution_count": 4,
   "source": [
    "cluster_cols = ['antes_vs_despues', 'antes_vs_despues_detalle', 'anticonceptivo', 'autoref', 'c_dolor', 'cconsejo', 'consejeria', 'desc_derechohab', 'desc_servicio', 'edad_vs_fsexual', 'edad_vs_menarca', 'edocivil_descripcion', 'fsexual_vs_menarca', 'motiles', 'naborto', 'ncesarea', 'nile', 'nivel_edu', 'npartos', 'ocupacion', 'p_consent', 'panticoncep', 'parentesco', 'procile_completa', 'procile_simplificada', 'rango_c_num', 'rango_edad', 'rango_fsexual', 'rango_gesta', 'rango_menarca', 'rango_nhijos', 'rango_p_diasgesta', 'rango_p_semgest', 'rango_sememb', 'religion', 'resultado_ile', 's_complica', 'tanalgesico']\n",
    "\n",
    "df[cluster_cols].sample()"
   ],
   "outputs": [
    {
     "output_type": "execute_result",
     "data": {
      "text/html": [
       "<div>\n",
       "<style scoped>\n",
       "    .dataframe tbody tr th:only-of-type {\n",
       "        vertical-align: middle;\n",
       "    }\n",
       "\n",
       "    .dataframe tbody tr th {\n",
       "        vertical-align: top;\n",
       "    }\n",
       "\n",
       "    .dataframe thead th {\n",
       "        text-align: right;\n",
       "    }\n",
       "</style>\n",
       "<table border=\"1\" class=\"dataframe\">\n",
       "  <thead>\n",
       "    <tr style=\"text-align: right;\">\n",
       "      <th></th>\n",
       "      <th>antes_vs_despues</th>\n",
       "      <th>antes_vs_despues_detalle</th>\n",
       "      <th>anticonceptivo</th>\n",
       "      <th>autoref</th>\n",
       "      <th>c_dolor</th>\n",
       "      <th>cconsejo</th>\n",
       "      <th>consejeria</th>\n",
       "      <th>desc_derechohab</th>\n",
       "      <th>desc_servicio</th>\n",
       "      <th>edad_vs_fsexual</th>\n",
       "      <th>...</th>\n",
       "      <th>rango_gesta</th>\n",
       "      <th>rango_menarca</th>\n",
       "      <th>rango_nhijos</th>\n",
       "      <th>rango_p_diasgesta</th>\n",
       "      <th>rango_p_semgest</th>\n",
       "      <th>rango_sememb</th>\n",
       "      <th>religion</th>\n",
       "      <th>resultado_ile</th>\n",
       "      <th>s_complica</th>\n",
       "      <th>tanalgesico</th>\n",
       "    </tr>\n",
       "  </thead>\n",
       "  <tbody>\n",
       "    <tr>\n",
       "      <th>75676</th>\n",
       "      <td>DIFERENTE</td>\n",
       "      <td>antes: NINGUNO, después: DESCONOCIDO</td>\n",
       "      <td>NINGUNO</td>\n",
       "      <td>DESCONOCIDO</td>\n",
       "      <td>DESCONOCIDO</td>\n",
       "      <td>SI</td>\n",
       "      <td>SI</td>\n",
       "      <td>NINGUNO</td>\n",
       "      <td>DESCONOCIDO</td>\n",
       "      <td>DESCONOCIDO</td>\n",
       "      <td>...</td>\n",
       "      <td>DESCONOCIDO</td>\n",
       "      <td>13</td>\n",
       "      <td>00</td>\n",
       "      <td>05</td>\n",
       "      <td>01 a 05</td>\n",
       "      <td>DESCONOCIDO</td>\n",
       "      <td>NINGUNA</td>\n",
       "      <td>DESCONOCIDO</td>\n",
       "      <td>DESCONOCIDO</td>\n",
       "      <td>DESCONOCIDO</td>\n",
       "    </tr>\n",
       "  </tbody>\n",
       "</table>\n",
       "<p>1 rows × 38 columns</p>\n",
       "</div>"
      ],
      "text/plain": [
       "      antes_vs_despues              antes_vs_despues_detalle anticonceptivo  \\\n",
       "75676        DIFERENTE  antes: NINGUNO, después: DESCONOCIDO        NINGUNO   \n",
       "\n",
       "           autoref      c_dolor cconsejo consejeria desc_derechohab  \\\n",
       "75676  DESCONOCIDO  DESCONOCIDO       SI         SI         NINGUNO   \n",
       "\n",
       "      desc_servicio edad_vs_fsexual  ...  rango_gesta rango_menarca  \\\n",
       "75676   DESCONOCIDO     DESCONOCIDO  ...  DESCONOCIDO            13   \n",
       "\n",
       "      rango_nhijos rango_p_diasgesta rango_p_semgest rango_sememb religion  \\\n",
       "75676           00                05         01 a 05  DESCONOCIDO  NINGUNA   \n",
       "\n",
       "      resultado_ile   s_complica  tanalgesico  \n",
       "75676   DESCONOCIDO  DESCONOCIDO  DESCONOCIDO  \n",
       "\n",
       "[1 rows x 38 columns]"
      ]
     },
     "metadata": {},
     "execution_count": 4
    }
   ],
   "metadata": {}
  },
  {
   "cell_type": "markdown",
   "source": [
    "## Clustering"
   ],
   "metadata": {}
  },
  {
   "cell_type": "code",
   "execution_count": 6,
   "source": [
    "df, clustering_pipeline = ile.clustering_ile(df, cluster_cols, n_clusters=N_CLUSTERS)\n",
    "df.sample()"
   ],
   "outputs": [
    {
     "output_type": "stream",
     "name": "stdout",
     "text": [
      "Archivo: interrupcion_embarazo_clean_cluster.csv fue exportado exitosamente en: /Users/efraflores/Desktop/EF/Contests/Datathon_CDMX/data\n"
     ]
    },
    {
     "output_type": "execute_result",
     "data": {
      "text/html": [
       "<div>\n",
       "<style scoped>\n",
       "    .dataframe tbody tr th:only-of-type {\n",
       "        vertical-align: middle;\n",
       "    }\n",
       "\n",
       "    .dataframe tbody tr th {\n",
       "        vertical-align: top;\n",
       "    }\n",
       "\n",
       "    .dataframe thead th {\n",
       "        text-align: right;\n",
       "    }\n",
       "</style>\n",
       "<table border=\"1\" class=\"dataframe\">\n",
       "  <thead>\n",
       "    <tr style=\"text-align: right;\">\n",
       "      <th></th>\n",
       "      <th>año</th>\n",
       "      <th>mes</th>\n",
       "      <th>fingreso</th>\n",
       "      <th>autoref</th>\n",
       "      <th>edocivil_descripcion</th>\n",
       "      <th>edad</th>\n",
       "      <th>desc_derechohab</th>\n",
       "      <th>nivel_edu</th>\n",
       "      <th>ocupacion</th>\n",
       "      <th>religion</th>\n",
       "      <th>...</th>\n",
       "      <th>rango_gesta</th>\n",
       "      <th>rango_c_num</th>\n",
       "      <th>rango_p_semgest</th>\n",
       "      <th>rango_p_diasgesta</th>\n",
       "      <th>rango_fsexual_vs_menarca</th>\n",
       "      <th>rango_edad_vs_menarca</th>\n",
       "      <th>rango_edad_vs_fsexual</th>\n",
       "      <th>antes_vs_despues</th>\n",
       "      <th>antes_vs_despues_detalle</th>\n",
       "      <th>cluster</th>\n",
       "    </tr>\n",
       "  </thead>\n",
       "  <tbody>\n",
       "    <tr>\n",
       "      <th>22344</th>\n",
       "      <td>2020.0</td>\n",
       "      <td>NOVIEMBRE</td>\n",
       "      <td>2020-11-09</td>\n",
       "      <td>NO</td>\n",
       "      <td>SOLTERX</td>\n",
       "      <td>22.0</td>\n",
       "      <td>DESCONOCIDO</td>\n",
       "      <td>LICENCIATURA</td>\n",
       "      <td>ESTUDIANTE</td>\n",
       "      <td>SI</td>\n",
       "      <td>...</td>\n",
       "      <td>01</td>\n",
       "      <td>00</td>\n",
       "      <td>07</td>\n",
       "      <td>01</td>\n",
       "      <td>05 a 06</td>\n",
       "      <td>09 a 12</td>\n",
       "      <td>05 a 08</td>\n",
       "      <td>DIFERENTE</td>\n",
       "      <td>antes: CONDON, después: DESCONOCIDO</td>\n",
       "      <td>G</td>\n",
       "    </tr>\n",
       "  </tbody>\n",
       "</table>\n",
       "<p>1 rows × 70 columns</p>\n",
       "</div>"
      ],
      "text/plain": [
       "          año        mes    fingreso autoref edocivil_descripcion  edad  \\\n",
       "22344  2020.0  NOVIEMBRE  2020-11-09      NO              SOLTERX  22.0   \n",
       "\n",
       "      desc_derechohab     nivel_edu   ocupacion religion  ... rango_gesta  \\\n",
       "22344     DESCONOCIDO  LICENCIATURA  ESTUDIANTE       SI  ...          01   \n",
       "\n",
       "      rango_c_num rango_p_semgest rango_p_diasgesta rango_fsexual_vs_menarca  \\\n",
       "22344          00              07                01                  05 a 06   \n",
       "\n",
       "      rango_edad_vs_menarca rango_edad_vs_fsexual antes_vs_despues  \\\n",
       "22344               09 a 12               05 a 08        DIFERENTE   \n",
       "\n",
       "                  antes_vs_despues_detalle cluster  \n",
       "22344  antes: CONDON, después: DESCONOCIDO       G  \n",
       "\n",
       "[1 rows x 70 columns]"
      ]
     },
     "metadata": {},
     "execution_count": 6
    }
   ],
   "metadata": {}
  }
 ],
 "metadata": {
  "orig_nbformat": 4,
  "language_info": {
   "name": "python",
   "version": "3.9.1",
   "mimetype": "text/x-python",
   "codemirror_mode": {
    "name": "ipython",
    "version": 3
   },
   "pygments_lexer": "ipython3",
   "nbconvert_exporter": "python",
   "file_extension": ".py"
  },
  "kernelspec": {
   "name": "python3",
   "display_name": "Python 3.9.1 64-bit ('venv': venv)"
  },
  "interpreter": {
   "hash": "3d6254c2a4489d24e251f2cd74a7554b2c853c1e9726258dfe363beb22972a7a"
  }
 },
 "nbformat": 4,
 "nbformat_minor": 2
}