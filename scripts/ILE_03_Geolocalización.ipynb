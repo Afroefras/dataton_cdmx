{
 "cells": [
  {
   "cell_type": "markdown",
   "metadata": {},
   "source": [
    "# Perfilamiento"
   ]
  },
  {
   "cell_type": "markdown",
   "metadata": {},
   "source": [
    "## Parámetros"
   ]
  },
  {
   "cell_type": "code",
   "execution_count": 1,
   "metadata": {},
   "outputs": [],
   "source": [
    "BASE_DIR = '/Users/efraflores/Desktop/EF/Contests/Datathon_CDMX/data' # Mac\n",
    "# BASE_DIR = r'D:\\Users\\efras\\Documents\\EF\\Contests\\Datathon_CDMX\\data' # Windows\n",
    "ILE_NAME = 'interrupcion_embarazo_limpio_cluster'\n",
    "ALCALDIAS_NAME = 'alcaldias_geoloc'"
   ]
  },
  {
   "cell_type": "markdown",
   "metadata": {},
   "source": [
    "## Importar"
   ]
  },
  {
   "cell_type": "markdown",
   "metadata": {},
   "source": [
    "### Clase"
   ]
  },
  {
   "cell_type": "code",
   "execution_count": 2,
   "metadata": {},
   "outputs": [
    {
     "name": "stdout",
     "output_type": "stream",
     "text": [
      "Directorio: \t/Users/efraflores/Desktop/EF/Contests/Datathon_CDMX/data\n"
     ]
    }
   ],
   "source": [
    "from mariachis.alcaldias import Alcaldias\n",
    "\n",
    "ile = Alcaldias(BASE_DIR, ILE_NAME)\n",
    "print(ile)"
   ]
  },
  {
   "cell_type": "markdown",
   "metadata": {},
   "source": [
    "### ILE limpio y con cluster"
   ]
  },
  {
   "cell_type": "code",
   "execution_count": 3,
   "metadata": {},
   "outputs": [
    {
     "name": "stdout",
     "output_type": "stream",
     "text": [
      "Archivo con nombre interrupcion_embarazo_limpio_cluster.csv fue encontrado en /Users/efraflores/Desktop/EF/Contests/Datathon_CDMX/data\n",
      "Con 79383 renglones y 73 columnas\n"
     ]
    },
    {
     "data": {
      "text/html": [
       "<div>\n",
       "<style scoped>\n",
       "    .dataframe tbody tr th:only-of-type {\n",
       "        vertical-align: middle;\n",
       "    }\n",
       "\n",
       "    .dataframe tbody tr th {\n",
       "        vertical-align: top;\n",
       "    }\n",
       "\n",
       "    .dataframe thead th {\n",
       "        text-align: right;\n",
       "    }\n",
       "</style>\n",
       "<table border=\"1\" class=\"dataframe\">\n",
       "  <thead>\n",
       "    <tr style=\"text-align: right;\">\n",
       "      <th></th>\n",
       "      <th>año</th>\n",
       "      <th>mes</th>\n",
       "      <th>fingreso</th>\n",
       "      <th>autoref</th>\n",
       "      <th>edocivil_descripcion</th>\n",
       "      <th>edad</th>\n",
       "      <th>desc_derechohab</th>\n",
       "      <th>nivel_edu</th>\n",
       "      <th>ocupacion</th>\n",
       "      <th>religion</th>\n",
       "      <th>...</th>\n",
       "      <th>rango_p_diasgesta</th>\n",
       "      <th>rango_fsexual_vs_menarca</th>\n",
       "      <th>rango_edad_vs_menarca</th>\n",
       "      <th>rango_edad_vs_fsexual</th>\n",
       "      <th>antes_vs_despues</th>\n",
       "      <th>antes_vs_despues_detalle</th>\n",
       "      <th>cluster</th>\n",
       "      <th>nombre</th>\n",
       "      <th>conclusión general</th>\n",
       "      <th>características de minorías</th>\n",
       "    </tr>\n",
       "  </thead>\n",
       "  <tbody>\n",
       "    <tr>\n",
       "      <th>20725</th>\n",
       "      <td>2020.0</td>\n",
       "      <td>FEBRERO</td>\n",
       "      <td>2020-02-17</td>\n",
       "      <td>NO</td>\n",
       "      <td>SOLTERX</td>\n",
       "      <td>23.0</td>\n",
       "      <td>NINGUNO</td>\n",
       "      <td>SECUNDARIA</td>\n",
       "      <td>EMPLEADX</td>\n",
       "      <td>SI</td>\n",
       "      <td>...</td>\n",
       "      <td>01</td>\n",
       "      <td>01 a 03</td>\n",
       "      <td>09 a 12</td>\n",
       "      <td>09 a 12</td>\n",
       "      <td>DIFERENTE</td>\n",
       "      <td>antes: NINGUNO, después: DESCONOCIDO</td>\n",
       "      <td>G</td>\n",
       "      <td>Atención directa en servicio Gineco-Obstetrici...</td>\n",
       "      <td>No se conoce la fecha de ILE, del total poca g...</td>\n",
       "      <td>NaN</td>\n",
       "    </tr>\n",
       "  </tbody>\n",
       "</table>\n",
       "<p>1 rows × 73 columns</p>\n",
       "</div>"
      ],
      "text/plain": [
       "          año      mes    fingreso autoref edocivil_descripcion  edad  \\\n",
       "20725  2020.0  FEBRERO  2020-02-17      NO              SOLTERX  23.0   \n",
       "\n",
       "      desc_derechohab   nivel_edu ocupacion religion  ... rango_p_diasgesta  \\\n",
       "20725         NINGUNO  SECUNDARIA  EMPLEADX       SI  ...                01   \n",
       "\n",
       "      rango_fsexual_vs_menarca rango_edad_vs_menarca rango_edad_vs_fsexual  \\\n",
       "20725                  01 a 03               09 a 12               09 a 12   \n",
       "\n",
       "      antes_vs_despues              antes_vs_despues_detalle cluster  \\\n",
       "20725        DIFERENTE  antes: NINGUNO, después: DESCONOCIDO       G   \n",
       "\n",
       "                                                  nombre  \\\n",
       "20725  Atención directa en servicio Gineco-Obstetrici...   \n",
       "\n",
       "                                      conclusión general  \\\n",
       "20725  No se conoce la fecha de ILE, del total poca g...   \n",
       "\n",
       "      características de minorías  \n",
       "20725                         NaN  \n",
       "\n",
       "[1 rows x 73 columns]"
      ]
     },
     "execution_count": 3,
     "metadata": {},
     "output_type": "execute_result"
    }
   ],
   "source": [
    "df = ile.full_import(api=False)\n",
    "df.sample()"
   ]
  },
  {
   "cell_type": "markdown",
   "metadata": {},
   "source": [
    "### Alcaldías"
   ]
  },
  {
   "cell_type": "code",
   "execution_count": 4,
   "metadata": {},
   "outputs": [
    {
     "name": "stdout",
     "output_type": "stream",
     "text": [
      "Archivo con nombre alcaldias_geoloc.csv fue encontrado en /Users/efraflores/Desktop/EF/Contests/Datathon_CDMX/data\n",
      "Con 16 renglones y 8 columnas\n"
     ]
    },
    {
     "data": {
      "text/html": [
       "<div>\n",
       "<style scoped>\n",
       "    .dataframe tbody tr th:only-of-type {\n",
       "        vertical-align: middle;\n",
       "    }\n",
       "\n",
       "    .dataframe tbody tr th {\n",
       "        vertical-align: top;\n",
       "    }\n",
       "\n",
       "    .dataframe thead th {\n",
       "        text-align: right;\n",
       "    }\n",
       "</style>\n",
       "<table border=\"1\" class=\"dataframe\">\n",
       "  <thead>\n",
       "    <tr style=\"text-align: right;\">\n",
       "      <th></th>\n",
       "      <th>nomgeo_correct</th>\n",
       "      <th>geometry</th>\n",
       "      <th>area</th>\n",
       "      <th>boundary</th>\n",
       "      <th>centroid</th>\n",
       "      <th>convex_hull</th>\n",
       "      <th>lat</th>\n",
       "      <th>lng</th>\n",
       "    </tr>\n",
       "  </thead>\n",
       "  <tbody>\n",
       "    <tr>\n",
       "      <th>14</th>\n",
       "      <td>Iztapalapa</td>\n",
       "      <td>POLYGON ((-99.05813287699995 19.40071958499914...</td>\n",
       "      <td>0.009768</td>\n",
       "      <td>LINESTRING (-99.05813287699995 19.400719584999...</td>\n",
       "      <td>POINT (-99.05663676133136 19.34911290175106)</td>\n",
       "      <td>POLYGON ((-99.0681189539999 19.28593403099913,...</td>\n",
       "      <td>-99.056637</td>\n",
       "      <td>19.349113</td>\n",
       "    </tr>\n",
       "  </tbody>\n",
       "</table>\n",
       "</div>"
      ],
      "text/plain": [
       "   nomgeo_correct                                           geometry  \\\n",
       "14     Iztapalapa  POLYGON ((-99.05813287699995 19.40071958499914...   \n",
       "\n",
       "        area                                           boundary  \\\n",
       "14  0.009768  LINESTRING (-99.05813287699995 19.400719584999...   \n",
       "\n",
       "                                        centroid  \\\n",
       "14  POINT (-99.05663676133136 19.34911290175106)   \n",
       "\n",
       "                                          convex_hull        lat        lng  \n",
       "14  POLYGON ((-99.0681189539999 19.28593403099913,... -99.056637  19.349113  "
      ]
     },
     "execution_count": 4,
     "metadata": {},
     "output_type": "execute_result"
    }
   ],
   "source": [
    "alc = Alcaldias(BASE_DIR, ALCALDIAS_NAME).full_import(api=False)\n",
    "alc.sample()"
   ]
  },
  {
   "cell_type": "markdown",
   "metadata": {},
   "source": [
    "## Unión"
   ]
  },
  {
   "cell_type": "code",
   "execution_count": 5,
   "metadata": {},
   "outputs": [
    {
     "name": "stdout",
     "output_type": "stream",
     "text": [
      "Archivo: interrupcion_embarazo_limpio_cluster_geoloc.csv fue exportado exitosamente en: /Users/efraflores/Desktop/EF/Contests/Datathon_CDMX/data\n",
      "(48428, 82)\n"
     ]
    },
    {
     "data": {
      "text/html": [
       "<div>\n",
       "<style scoped>\n",
       "    .dataframe tbody tr th:only-of-type {\n",
       "        vertical-align: middle;\n",
       "    }\n",
       "\n",
       "    .dataframe tbody tr th {\n",
       "        vertical-align: top;\n",
       "    }\n",
       "\n",
       "    .dataframe thead th {\n",
       "        text-align: right;\n",
       "    }\n",
       "</style>\n",
       "<table border=\"1\" class=\"dataframe\">\n",
       "  <thead>\n",
       "    <tr style=\"text-align: right;\">\n",
       "      <th></th>\n",
       "      <th>año</th>\n",
       "      <th>mes</th>\n",
       "      <th>fingreso</th>\n",
       "      <th>autoref</th>\n",
       "      <th>edocivil_descripcion</th>\n",
       "      <th>edad</th>\n",
       "      <th>desc_derechohab</th>\n",
       "      <th>nivel_edu</th>\n",
       "      <th>ocupacion</th>\n",
       "      <th>religion</th>\n",
       "      <th>...</th>\n",
       "      <th>características de minorías</th>\n",
       "      <th>alc_o_municipio_correct</th>\n",
       "      <th>nomgeo_correct</th>\n",
       "      <th>geometry</th>\n",
       "      <th>area</th>\n",
       "      <th>boundary</th>\n",
       "      <th>centroid</th>\n",
       "      <th>convex_hull</th>\n",
       "      <th>lat</th>\n",
       "      <th>lng</th>\n",
       "    </tr>\n",
       "  </thead>\n",
       "  <tbody>\n",
       "    <tr>\n",
       "      <th>25275</th>\n",
       "      <td>2019.0</td>\n",
       "      <td>ABRIL</td>\n",
       "      <td>2019-04-02</td>\n",
       "      <td>DESCONOCIDO</td>\n",
       "      <td>SEPARADX</td>\n",
       "      <td>32.0</td>\n",
       "      <td>ALGUNO</td>\n",
       "      <td>SECUNDARIA</td>\n",
       "      <td>EMPLEADX</td>\n",
       "      <td>NINGUNA</td>\n",
       "      <td>...</td>\n",
       "      <td>De los procedimientos que se complican, la may...</td>\n",
       "      <td>Cuauhtémoc</td>\n",
       "      <td>Cuauhtémoc</td>\n",
       "      <td>POLYGON ((-99.1291909399999 19.46246651999916,...</td>\n",
       "      <td>0.002781</td>\n",
       "      <td>LINESTRING (-99.1291909399999 19.4624665199991...</td>\n",
       "      <td>POINT (-99.14892954802239 19.43145747540747)</td>\n",
       "      <td>POLYGON ((-99.17043551999993 19.39978979999914...</td>\n",
       "      <td>-99.148930</td>\n",
       "      <td>19.431457</td>\n",
       "    </tr>\n",
       "    <tr>\n",
       "      <th>31126</th>\n",
       "      <td>2020.0</td>\n",
       "      <td>DICIEMBRE</td>\n",
       "      <td>2020-12-21</td>\n",
       "      <td>DESCONOCIDO</td>\n",
       "      <td>SOLTERX</td>\n",
       "      <td>23.0</td>\n",
       "      <td>NINGUNO</td>\n",
       "      <td>PREPARATORIA</td>\n",
       "      <td>ESTUDIANTE</td>\n",
       "      <td>SI</td>\n",
       "      <td>...</td>\n",
       "      <td>Servicio de cirugía ambulatoria. Procedimiento...</td>\n",
       "      <td>Iztacalco</td>\n",
       "      <td>Iztacalco</td>\n",
       "      <td>POLYGON ((-99.05583625999996 19.42196122999907...</td>\n",
       "      <td>0.001981</td>\n",
       "      <td>LINESTRING (-99.05583625999996 19.421961229999...</td>\n",
       "      <td>POINT (-99.09438612882018 19.39693504261705)</td>\n",
       "      <td>POLYGON ((-99.12253391999992 19.37569950999914...</td>\n",
       "      <td>-99.094386</td>\n",
       "      <td>19.396935</td>\n",
       "    </tr>\n",
       "    <tr>\n",
       "      <th>6321</th>\n",
       "      <td>2018.0</td>\n",
       "      <td>JUNIO</td>\n",
       "      <td>2018-06-07</td>\n",
       "      <td>DESCONOCIDO</td>\n",
       "      <td>UNION_LIBRE</td>\n",
       "      <td>33.0</td>\n",
       "      <td>ALGUNO</td>\n",
       "      <td>PREPARATORIA</td>\n",
       "      <td>TRAB_HOGAR_NO_REMUNERADX</td>\n",
       "      <td>SI</td>\n",
       "      <td>...</td>\n",
       "      <td>Grado de estudio preparatoria o licenciatura. ...</td>\n",
       "      <td>Miguel Hidalgo</td>\n",
       "      <td>Miguel Hidalgo</td>\n",
       "      <td>POLYGON ((-99.19057941999993 19.46793631999912...</td>\n",
       "      <td>0.003978</td>\n",
       "      <td>LINESTRING (-99.19057941999993 19.467936319999...</td>\n",
       "      <td>POINT (-99.20457128377535 19.42788185812496)</td>\n",
       "      <td>POLYGON ((-99.24656976999992 19.38682881999916...</td>\n",
       "      <td>-99.204571</td>\n",
       "      <td>19.427882</td>\n",
       "    </tr>\n",
       "    <tr>\n",
       "      <th>33706</th>\n",
       "      <td>2018.0</td>\n",
       "      <td>ENERO</td>\n",
       "      <td>2018-01-18</td>\n",
       "      <td>DESCONOCIDO</td>\n",
       "      <td>SOLTERX</td>\n",
       "      <td>27.0</td>\n",
       "      <td>NINGUNO</td>\n",
       "      <td>SECUNDARIA</td>\n",
       "      <td>TRAB_HOGAR_NO_REMUNERADX</td>\n",
       "      <td>SI</td>\n",
       "      <td>...</td>\n",
       "      <td>NaN</td>\n",
       "      <td>Venustiano Carranza</td>\n",
       "      <td>Venustiano Carranza</td>\n",
       "      <td>POLYGON ((-99.10894588999996 19.45273362999915...</td>\n",
       "      <td>0.002903</td>\n",
       "      <td>LINESTRING (-99.10894588999996 19.452733629999...</td>\n",
       "      <td>POINT (-99.09304113704752 19.43055456567598)</td>\n",
       "      <td>POLYGON ((-99.12172014999994 19.40503233999914...</td>\n",
       "      <td>-99.093041</td>\n",
       "      <td>19.430555</td>\n",
       "    </tr>\n",
       "  </tbody>\n",
       "</table>\n",
       "<p>4 rows × 82 columns</p>\n",
       "</div>"
      ],
      "text/plain": [
       "          año        mes    fingreso      autoref edocivil_descripcion  edad  \\\n",
       "25275  2019.0      ABRIL  2019-04-02  DESCONOCIDO             SEPARADX  32.0   \n",
       "31126  2020.0  DICIEMBRE  2020-12-21  DESCONOCIDO              SOLTERX  23.0   \n",
       "6321   2018.0      JUNIO  2018-06-07  DESCONOCIDO          UNION_LIBRE  33.0   \n",
       "33706  2018.0      ENERO  2018-01-18  DESCONOCIDO              SOLTERX  27.0   \n",
       "\n",
       "      desc_derechohab     nivel_edu                 ocupacion religion  ...  \\\n",
       "25275          ALGUNO    SECUNDARIA                  EMPLEADX  NINGUNA  ...   \n",
       "31126         NINGUNO  PREPARATORIA                ESTUDIANTE       SI  ...   \n",
       "6321           ALGUNO  PREPARATORIA  TRAB_HOGAR_NO_REMUNERADX       SI  ...   \n",
       "33706         NINGUNO    SECUNDARIA  TRAB_HOGAR_NO_REMUNERADX       SI  ...   \n",
       "\n",
       "                             características de minorías  \\\n",
       "25275  De los procedimientos que se complican, la may...   \n",
       "31126  Servicio de cirugía ambulatoria. Procedimiento...   \n",
       "6321   Grado de estudio preparatoria o licenciatura. ...   \n",
       "33706                                                NaN   \n",
       "\n",
       "      alc_o_municipio_correct       nomgeo_correct  \\\n",
       "25275              Cuauhtémoc           Cuauhtémoc   \n",
       "31126               Iztacalco            Iztacalco   \n",
       "6321           Miguel Hidalgo       Miguel Hidalgo   \n",
       "33706     Venustiano Carranza  Venustiano Carranza   \n",
       "\n",
       "                                                geometry      area  \\\n",
       "25275  POLYGON ((-99.1291909399999 19.46246651999916,...  0.002781   \n",
       "31126  POLYGON ((-99.05583625999996 19.42196122999907...  0.001981   \n",
       "6321   POLYGON ((-99.19057941999993 19.46793631999912...  0.003978   \n",
       "33706  POLYGON ((-99.10894588999996 19.45273362999915...  0.002903   \n",
       "\n",
       "                                                boundary  \\\n",
       "25275  LINESTRING (-99.1291909399999 19.4624665199991...   \n",
       "31126  LINESTRING (-99.05583625999996 19.421961229999...   \n",
       "6321   LINESTRING (-99.19057941999993 19.467936319999...   \n",
       "33706  LINESTRING (-99.10894588999996 19.452733629999...   \n",
       "\n",
       "                                           centroid  \\\n",
       "25275  POINT (-99.14892954802239 19.43145747540747)   \n",
       "31126  POINT (-99.09438612882018 19.39693504261705)   \n",
       "6321   POINT (-99.20457128377535 19.42788185812496)   \n",
       "33706  POINT (-99.09304113704752 19.43055456567598)   \n",
       "\n",
       "                                             convex_hull        lat        lng  \n",
       "25275  POLYGON ((-99.17043551999993 19.39978979999914... -99.148930  19.431457  \n",
       "31126  POLYGON ((-99.12253391999992 19.37569950999914... -99.094386  19.396935  \n",
       "6321   POLYGON ((-99.24656976999992 19.38682881999916... -99.204571  19.427882  \n",
       "33706  POLYGON ((-99.12172014999994 19.40503233999914... -99.093041  19.430555  \n",
       "\n",
       "[4 rows x 82 columns]"
      ]
     },
     "execution_count": 5,
     "metadata": {},
     "output_type": "execute_result"
    }
   ],
   "source": [
    "gdf = ile.merge_ile(df, alc)\n",
    "print(gdf.shape)\n",
    "gdf.sample(4)"
   ]
  }
 ],
 "metadata": {
  "interpreter": {
   "hash": "bf5c91e87fa3f8c0a87f775dea31b1f562cb136b62dbdf18b0d4eb82d33f0ab4"
  },
  "kernelspec": {
   "display_name": "Python 3.9.1 64-bit ('venv': venv)",
   "name": "python3"
  },
  "language_info": {
   "codemirror_mode": {
    "name": "ipython",
    "version": 3
   },
   "file_extension": ".py",
   "mimetype": "text/x-python",
   "name": "python",
   "nbconvert_exporter": "python",
   "pygments_lexer": "ipython3",
   "version": "3.9.1"
  },
  "orig_nbformat": 4
 },
 "nbformat": 4,
 "nbformat_minor": 2
}
