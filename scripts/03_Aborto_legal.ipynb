{
 "cells": [
  {
   "cell_type": "markdown",
   "source": [
    "# Consumo de agua CDMX"
   ],
   "metadata": {}
  },
  {
   "cell_type": "markdown",
   "source": [
    "## Parameters"
   ],
   "metadata": {}
  },
  {
   "cell_type": "code",
   "execution_count": 1,
   "source": [
    "BASE_DIR = '/Users/efraflores/Desktop/EF/Contests/Datathon_CDMX/data'\n",
    "# RESOURCE_ID = '932b56bf-c5ec-4815-9814-370d58754002' #####SÓLO TRAE INFO 2016\n",
    "FILE_NAME = 'aborto_legal'"
   ],
   "outputs": [],
   "metadata": {}
  },
  {
   "cell_type": "markdown",
   "source": [
    "## Class"
   ],
   "metadata": {}
  },
  {
   "cell_type": "code",
   "execution_count": 2,
   "source": [
    "from pandas import DataFrame\n",
    "from typing import Dict\n",
    "\n",
    "from mariachis.models import BaseClass\n",
    "\n",
    "from sklearn.experimental import enable_iterative_imputer\n",
    "from sklearn.impute import IterativeImputer\n",
    "from sklearn.preprocessing import OneHotEncoder\n",
    "from sklearn.compose import ColumnTransformer\n",
    "\n",
    "\n",
    "class AbortoLegal(BaseClass):\n",
    "    def __init__(self, base_dir: str, file_name: str) -> None: \n",
    "        super().__init__(base_dir, file_name)\n",
    "\n",
    "    def wrangling_aborto(self, df: DataFrame, clean_dict: Dict, date_col: str='fingreso', export_imputed: bool=True, **kwargs):\n",
    "        # Sólo registros con fecha\n",
    "        df = df[df[date_col].notnull()].reset_index()\n",
    "        # Crear variables de fecha\n",
    "        df = self.date_vars(df, date_col)\n",
    "\n",
    "        # Obtener las variables numéricas\n",
    "        multi_num = list(set(clean_dict['vars_num']+clean_dict['vars_numbin']))\n",
    "        \n",
    "        # Limpiar si hay texto de variables numéricas\n",
    "        for col in multi_num:\n",
    "            df[col] = df[col].map(self.clean_number)\n",
    "\n",
    "        # Obtener las variables que serán binarias\n",
    "        bin_cat = list(set(\n",
    "            clean_dict['vars_yes_no']+\n",
    "            list(clean_dict['vars_catbin'].keys())+\n",
    "            list(clean_dict['vars_fill_zero'].keys())+\n",
    "            list(clean_dict['vars_fill_one'].keys())\n",
    "        ))\n",
    "\n",
    "        # Obtener las variables categóricas\n",
    "        just_cat = list(set(\n",
    "            clean_dict['vars_just_fill_na']+\n",
    "            clean_dict['vars_first_word']+\n",
    "            list(clean_dict['vars_cat'].keys())\n",
    "        ))\n",
    "        \n",
    "        total_cat = just_cat + bin_cat\n",
    "\n",
    "        # Omitir acentos de variables categóricas\n",
    "        for col in total_cat:\n",
    "            df[col] = df[col].map(self.clean_text)\n",
    "\n",
    "        # Sólo cambiar nulos por \"DESCONOCIDO\"\n",
    "        for col in clean_dict['vars_just_fill_na']:\n",
    "            df[col] = df[col].fillna('DESCONOCIDO')\n",
    "\n",
    "        # Obtener la primer palabra\n",
    "        for col in clean_dict['vars_first_word']:\n",
    "            df[col] = df[col].str.split().str[0]\n",
    "\n",
    "        # Agrupar categorías\n",
    "        for col,to_group in clean_dict['vars_cat'].items():\n",
    "            df[col] = df[col].map(to_group)\n",
    "\n",
    "        # Agrupar binarias\n",
    "        for col, to_group in clean_dict['vars_catbin'].items():\n",
    "            df[col] = df[col].map(to_group)\n",
    "\n",
    "        # Binarias de sí o no\n",
    "        for col in clean_dict['vars_yes_no']:\n",
    "            df[col] = df[col].map({'NO':0, 'SI':1})\n",
    "\n",
    "        # Lo que quede vacío llenar con 0\n",
    "        for col, to_fill in clean_dict['vars_fill_zero'].items():\n",
    "            df[col] = df[col].map(to_fill).fillna(0)\n",
    "\n",
    "        # Lo que quede vacío llenar con 1\n",
    "        for col, to_fill in clean_dict['vars_fill_one'].items():\n",
    "            df[col] = df[col].map(to_fill).fillna(1)\n",
    "\n",
    "        # Ahora las binarias son también numéricas\n",
    "        total_num = multi_num+bin_cat\n",
    "\n",
    "        prep = ColumnTransformer(transformers=[\n",
    "            ('encode', OneHotEncoder(), just_cat),\n",
    "            ('impute', IterativeImputer(random_state=22), total_num)\n",
    "        ])\n",
    "\n",
    "        # Aplicar para imputar nulos\n",
    "        default = DataFrame(prep.fit_transform(df[just_cat+total_num]), index=df.index, columns=just_cat+total_num)\n",
    "        \n",
    "        # Tal vez el usuario quiere exportar los resultados\n",
    "        if export_imputed: self.export_csv(df, name_suffix='imputed')\n",
    "\n",
    "        # Convertir vars_numbin a binarias\n",
    "\n",
    "        # Estructurar la información limpia\n",
    "        df = df.pivot_table(**kwargs)\n",
    "        df.columns = ['_'.join([x for x in col]) if not isinstance(df.columns[0],str) else col for col in df.columns]\n",
    "        return df\n",
    "\n",
    "al = AbortoLegal(BASE_DIR, FILE_NAME)\n",
    "# print(al)"
   ],
   "outputs": [
    {
     "output_type": "display_data",
     "data": {
      "text/html": [
       "        <script type=\"text/javascript\">\n",
       "        window.PlotlyConfig = {MathJaxConfig: 'local'};\n",
       "        if (window.MathJax) {MathJax.Hub.Config({SVG: {font: \"STIX-Web\"}});}\n",
       "        if (typeof require !== 'undefined') {\n",
       "        require.undef(\"plotly\");\n",
       "        requirejs.config({\n",
       "            paths: {\n",
       "                'plotly': ['https://cdn.plot.ly/plotly-2.4.2.min']\n",
       "            }\n",
       "        });\n",
       "        require(['plotly'], function(Plotly) {\n",
       "            window._Plotly = Plotly;\n",
       "        });\n",
       "        }\n",
       "        </script>\n",
       "        "
      ]
     },
     "metadata": {}
    }
   ],
   "metadata": {}
  },
  {
   "cell_type": "markdown",
   "source": [
    "## Data Wrangling"
   ],
   "metadata": {}
  },
  {
   "cell_type": "code",
   "execution_count": 3,
   "source": [
    "df = al.full_import(api=False)\n",
    "df.sample()"
   ],
   "outputs": [
    {
     "output_type": "execute_result",
     "data": {
      "text/html": [
       "<div>\n",
       "<style scoped>\n",
       "    .dataframe tbody tr th:only-of-type {\n",
       "        vertical-align: middle;\n",
       "    }\n",
       "\n",
       "    .dataframe tbody tr th {\n",
       "        vertical-align: top;\n",
       "    }\n",
       "\n",
       "    .dataframe thead th {\n",
       "        text-align: right;\n",
       "    }\n",
       "</style>\n",
       "<table border=\"1\" class=\"dataframe\">\n",
       "  <thead>\n",
       "    <tr style=\"text-align: right;\">\n",
       "      <th></th>\n",
       "      <th>año</th>\n",
       "      <th>mes</th>\n",
       "      <th>fingreso</th>\n",
       "      <th>autoref</th>\n",
       "      <th>edocivil_descripcion</th>\n",
       "      <th>edad</th>\n",
       "      <th>desc_derechohab</th>\n",
       "      <th>nivel_edu</th>\n",
       "      <th>ocupacion</th>\n",
       "      <th>religion</th>\n",
       "      <th>...</th>\n",
       "      <th>tanalgesico</th>\n",
       "      <th>cconsejo</th>\n",
       "      <th>panticoncep</th>\n",
       "      <th>fecha_cierre</th>\n",
       "      <th>resultado_ile</th>\n",
       "      <th>medicamento</th>\n",
       "      <th>clues_2</th>\n",
       "      <th>clues_hospital</th>\n",
       "      <th>procile_simplificada</th>\n",
       "      <th>procile_completa</th>\n",
       "    </tr>\n",
       "  </thead>\n",
       "  <tbody>\n",
       "    <tr>\n",
       "      <th>19020</th>\n",
       "      <td>2019.0</td>\n",
       "      <td>AGOSTO</td>\n",
       "      <td>2019-08-14</td>\n",
       "      <td>NO</td>\n",
       "      <td>SOLTERA</td>\n",
       "      <td>20.0</td>\n",
       "      <td>NO ESPECIFICADO</td>\n",
       "      <td>PREPARATORIA</td>\n",
       "      <td>ESTUDIANTE</td>\n",
       "      <td>CATOLICA</td>\n",
       "      <td>...</td>\n",
       "      <td>SI</td>\n",
       "      <td>SI</td>\n",
       "      <td>NaN</td>\n",
       "      <td>NaN</td>\n",
       "      <td>NaN</td>\n",
       "      <td>NaN</td>\n",
       "      <td>NaN</td>\n",
       "      <td>DFSSA003705</td>\n",
       "      <td>MEDICAMENTO</td>\n",
       "      <td>NaN</td>\n",
       "    </tr>\n",
       "  </tbody>\n",
       "</table>\n",
       "<p>1 rows × 47 columns</p>\n",
       "</div>"
      ],
      "text/plain": [
       "          año     mes    fingreso autoref edocivil_descripcion  edad  \\\n",
       "19020  2019.0  AGOSTO  2019-08-14      NO              SOLTERA  20.0   \n",
       "\n",
       "       desc_derechohab     nivel_edu   ocupacion  religion  ... tanalgesico  \\\n",
       "19020  NO ESPECIFICADO  PREPARATORIA  ESTUDIANTE  CATOLICA  ...          SI   \n",
       "\n",
       "      cconsejo panticoncep fecha_cierre  resultado_ile medicamento  clues_2  \\\n",
       "19020       SI         NaN          NaN            NaN         NaN      NaN   \n",
       "\n",
       "       clues_hospital  procile_simplificada  procile_completa  \n",
       "19020     DFSSA003705           MEDICAMENTO               NaN  \n",
       "\n",
       "[1 rows x 47 columns]"
      ]
     },
     "metadata": {},
     "execution_count": 3
    }
   ],
   "metadata": {}
  },
  {
   "cell_type": "markdown",
   "source": [
    "## Dict"
   ],
   "metadata": {}
  },
  {
   "cell_type": "code",
   "execution_count": 4,
   "source": [
    "from numpy import nan\n",
    "\n",
    "# Diccionario para aplicar limpieza por tipo de variable\n",
    "full_dict = {}\n",
    "\n",
    "# Sólo cambiar nulos por \"DESCONOCIDO\"\n",
    "full_dict['vars_just_fill_na'] = ['entidad', 'motiles', 'desc_servicio', 'anticonceptivo', 'panticoncep']\n",
    "\n",
    "# Obtener la primer palabra\n",
    "full_dict['vars_first_word'] = ['anticonceptivo',  'panticoncep']\n",
    "\n",
    "# Agrupar categorías\n",
    "full_dict['vars_cat'] = {\n",
    "    'edocivil_descripcion':{\n",
    "        'SOLTERA':'SOLTERX', \n",
    "        'UNION LIBRE':'UNION_LIBRE', \n",
    "        'CASADA':'CASADX',\n",
    "        'DIVORCIADA':'SEPARADX',\n",
    "        'SEPARADA':'SEPARADX',\n",
    "        'VIUDA':'SEPARADX',\n",
    "        nan:'DESCONOCIDO'\n",
    "    },\n",
    "    'ocupacion':{\n",
    "        'EMPLEADA':'EMPLEADX',\n",
    "        'ESTUDIANTE':'ESTUDIANTE',\n",
    "        'TRABAJADORA DEL HOGAR NO REMUNERADA':'TRAB_HOGAR_NO_REMUNERADX',\n",
    "        'DESEMPLEADA':'OTRO',\n",
    "        'NO_ESPECIFICADO':'OTRO',\n",
    "        nan:'OTRO'\n",
    "    }\n",
    "}\n",
    "\n",
    "# Binarias de sí o no\n",
    "full_dict['vars_yes_no'] = ['autoref', 'consejeria', 'p_consent', 's_complica', 'c_dolor', 'tanalgesico', 'cconsejo', 'resultado_ile', 'medicamento']\n",
    "\n",
    "# Agrupar binarias\n",
    "full_dict['vars_catbin'] = {\n",
    "    'desc_derechohab':{\n",
    "        'NINGUNO':0,\n",
    "        'IMSS':1,\n",
    "        'SEGURO POPULAR':1,\n",
    "        'OTRA':1,\n",
    "        'ISSSTE':1\n",
    "    }\n",
    "}\n",
    "\n",
    "# Lo que quede vacío llenar con 0\n",
    "full_dict['vars_fill_zero'] = {\n",
    "    'nivel_edu':{\n",
    "        'LICENCIATURA':1,\n",
    "        'MAESTRIA':1,\n",
    "        'DOCTORADO':1\n",
    "    },\n",
    "    'parentesco':{'PAREJA':1}\n",
    "}\n",
    "\n",
    "# Lo que quede vacío llenar con 1\n",
    "full_dict['vars_fill_one'] = {\n",
    "    'religion':{'NINGUNA':0},\n",
    "    'h_fingreso':{nan:0}\n",
    "}\n",
    "\n",
    "# Ahora, limpiar texto de variables numéricas\n",
    "full_dict['vars_num'] = ['edad', 'menarca', 'fsexual', 'sememb', 'nhijos', 'gesta', 'c_num', 'p_semgest', 'p_diasgesta']\n",
    "full_dict['vars_numbin'] = ['naborto', 'npartos', 'ncesarea', 'nile']"
   ],
   "outputs": [],
   "metadata": {}
  },
  {
   "cell_type": "markdown",
   "source": [
    "Siguientes pasos!\n",
    "- diccionario para reducir variables categóricas\n",
    "- h_fingreso 0 si está vacía, caso contrario -> 1\n",
    "- LabelEncoder para categóricas\n",
    "- KNN Imputer para numéricas\n",
    "- vars_numbin convertir a binarias\n",
    "- clustering añomes+municipio con vars_cat+vars_catbin escaladas y calculando ['count','min','mean','max']\n",
    "- perfilamiento\n",
    "- agrupar por municipio, cómo es la distribución de los clústeres previos?\n",
    "- Cómo vender lo que resuelve?"
   ],
   "metadata": {}
  },
  {
   "cell_type": "markdown",
   "source": [
    "## Transform"
   ],
   "metadata": {}
  },
  {
   "cell_type": "code",
   "execution_count": 5,
   "source": [
    "from IPython.display import display\n",
    "\n",
    "X = al.wrangling_aborto(df, full_dict, index=['fingreso_yearmonth', 'entidad', 'alc_o_municipio'], aggfunc=['count','min','median','mean','max'], fill_value=0)"
   ],
   "outputs": [
    {
     "output_type": "stream",
     "name": "stderr",
     "text": [
      "/Users/efraflores/Desktop/hub/dataton_cdmx/venv/lib/python3.9/site-packages/sklearn/impute/_iterative.py:699: ConvergenceWarning:\n",
      "\n",
      "[IterativeImputer] Early stopping criterion not reached.\n",
      "\n"
     ]
    },
    {
     "output_type": "error",
     "ename": "ValueError",
     "evalue": "Shape of passed values is (77750, 108), indices imply (77750, 34)",
     "traceback": [
      "\u001b[0;31m---------------------------------------------------------------------------\u001b[0m",
      "\u001b[0;31mValueError\u001b[0m                                Traceback (most recent call last)",
      "\u001b[0;32m/var/folders/j4/1p33_bh96yn8pdz3b_5t80hm0000gn/T/ipykernel_6180/2567280791.py\u001b[0m in \u001b[0;36m<module>\u001b[0;34m\u001b[0m\n\u001b[1;32m      1\u001b[0m \u001b[0;32mfrom\u001b[0m \u001b[0mIPython\u001b[0m\u001b[0;34m.\u001b[0m\u001b[0mdisplay\u001b[0m \u001b[0;32mimport\u001b[0m \u001b[0mdisplay\u001b[0m\u001b[0;34m\u001b[0m\u001b[0;34m\u001b[0m\u001b[0m\n\u001b[1;32m      2\u001b[0m \u001b[0;34m\u001b[0m\u001b[0m\n\u001b[0;32m----> 3\u001b[0;31m \u001b[0mX\u001b[0m \u001b[0;34m=\u001b[0m \u001b[0mal\u001b[0m\u001b[0;34m.\u001b[0m\u001b[0mwrangling_aborto\u001b[0m\u001b[0;34m(\u001b[0m\u001b[0mdf\u001b[0m\u001b[0;34m,\u001b[0m \u001b[0mfull_dict\u001b[0m\u001b[0;34m,\u001b[0m \u001b[0mindex\u001b[0m\u001b[0;34m=\u001b[0m\u001b[0;34m[\u001b[0m\u001b[0;34m'fingreso_yearmonth'\u001b[0m\u001b[0;34m,\u001b[0m \u001b[0;34m'entidad'\u001b[0m\u001b[0;34m,\u001b[0m \u001b[0;34m'alc_o_municipio'\u001b[0m\u001b[0;34m]\u001b[0m\u001b[0;34m,\u001b[0m \u001b[0maggfunc\u001b[0m\u001b[0;34m=\u001b[0m\u001b[0;34m[\u001b[0m\u001b[0;34m'count'\u001b[0m\u001b[0;34m,\u001b[0m\u001b[0;34m'min'\u001b[0m\u001b[0;34m,\u001b[0m\u001b[0;34m'median'\u001b[0m\u001b[0;34m,\u001b[0m\u001b[0;34m'mean'\u001b[0m\u001b[0;34m,\u001b[0m\u001b[0;34m'max'\u001b[0m\u001b[0;34m]\u001b[0m\u001b[0;34m,\u001b[0m \u001b[0mfill_value\u001b[0m\u001b[0;34m=\u001b[0m\u001b[0;36m0\u001b[0m\u001b[0;34m)\u001b[0m\u001b[0;34m\u001b[0m\u001b[0;34m\u001b[0m\u001b[0m\n\u001b[0m",
      "\u001b[0;32m/var/folders/j4/1p33_bh96yn8pdz3b_5t80hm0000gn/T/ipykernel_6180/3714594025.py\u001b[0m in \u001b[0;36mwrangling_aborto\u001b[0;34m(self, df, clean_dict, date_col, export_imputed, **kwargs)\u001b[0m\n\u001b[1;32m     85\u001b[0m \u001b[0;34m\u001b[0m\u001b[0m\n\u001b[1;32m     86\u001b[0m         \u001b[0;31m# Aplicar para imputar nulos\u001b[0m\u001b[0;34m\u001b[0m\u001b[0;34m\u001b[0m\u001b[0;34m\u001b[0m\u001b[0m\n\u001b[0;32m---> 87\u001b[0;31m         \u001b[0mdefault\u001b[0m \u001b[0;34m=\u001b[0m \u001b[0mDataFrame\u001b[0m\u001b[0;34m(\u001b[0m\u001b[0mprep\u001b[0m\u001b[0;34m.\u001b[0m\u001b[0mfit_transform\u001b[0m\u001b[0;34m(\u001b[0m\u001b[0mdf\u001b[0m\u001b[0;34m[\u001b[0m\u001b[0mjust_cat\u001b[0m\u001b[0;34m+\u001b[0m\u001b[0mtotal_num\u001b[0m\u001b[0;34m]\u001b[0m\u001b[0;34m)\u001b[0m\u001b[0;34m,\u001b[0m \u001b[0mindex\u001b[0m\u001b[0;34m=\u001b[0m\u001b[0mdf\u001b[0m\u001b[0;34m.\u001b[0m\u001b[0mindex\u001b[0m\u001b[0;34m,\u001b[0m \u001b[0mcolumns\u001b[0m\u001b[0;34m=\u001b[0m\u001b[0mjust_cat\u001b[0m\u001b[0;34m+\u001b[0m\u001b[0mtotal_num\u001b[0m\u001b[0;34m)\u001b[0m\u001b[0;34m\u001b[0m\u001b[0;34m\u001b[0m\u001b[0m\n\u001b[0m\u001b[1;32m     88\u001b[0m \u001b[0;34m\u001b[0m\u001b[0m\n\u001b[1;32m     89\u001b[0m         \u001b[0;31m# Tal vez el usuario quiere exportar los resultados\u001b[0m\u001b[0;34m\u001b[0m\u001b[0;34m\u001b[0m\u001b[0;34m\u001b[0m\u001b[0m\n",
      "\u001b[0;32m~/Desktop/hub/dataton_cdmx/venv/lib/python3.9/site-packages/pandas/core/frame.py\u001b[0m in \u001b[0;36m__init__\u001b[0;34m(self, data, index, columns, dtype, copy)\u001b[0m\n\u001b[1;32m    670\u001b[0m                 )\n\u001b[1;32m    671\u001b[0m             \u001b[0;32melse\u001b[0m\u001b[0;34m:\u001b[0m\u001b[0;34m\u001b[0m\u001b[0;34m\u001b[0m\u001b[0m\n\u001b[0;32m--> 672\u001b[0;31m                 mgr = ndarray_to_mgr(\n\u001b[0m\u001b[1;32m    673\u001b[0m                     \u001b[0mdata\u001b[0m\u001b[0;34m,\u001b[0m\u001b[0;34m\u001b[0m\u001b[0;34m\u001b[0m\u001b[0m\n\u001b[1;32m    674\u001b[0m                     \u001b[0mindex\u001b[0m\u001b[0;34m,\u001b[0m\u001b[0;34m\u001b[0m\u001b[0;34m\u001b[0m\u001b[0m\n",
      "\u001b[0;32m~/Desktop/hub/dataton_cdmx/venv/lib/python3.9/site-packages/pandas/core/internals/construction.py\u001b[0m in \u001b[0;36mndarray_to_mgr\u001b[0;34m(values, index, columns, dtype, copy, typ)\u001b[0m\n\u001b[1;32m    322\u001b[0m     )\n\u001b[1;32m    323\u001b[0m \u001b[0;34m\u001b[0m\u001b[0m\n\u001b[0;32m--> 324\u001b[0;31m     \u001b[0m_check_values_indices_shape_match\u001b[0m\u001b[0;34m(\u001b[0m\u001b[0mvalues\u001b[0m\u001b[0;34m,\u001b[0m \u001b[0mindex\u001b[0m\u001b[0;34m,\u001b[0m \u001b[0mcolumns\u001b[0m\u001b[0;34m)\u001b[0m\u001b[0;34m\u001b[0m\u001b[0;34m\u001b[0m\u001b[0m\n\u001b[0m\u001b[1;32m    325\u001b[0m \u001b[0;34m\u001b[0m\u001b[0m\n\u001b[1;32m    326\u001b[0m     \u001b[0;32mif\u001b[0m \u001b[0mtyp\u001b[0m \u001b[0;34m==\u001b[0m \u001b[0;34m\"array\"\u001b[0m\u001b[0;34m:\u001b[0m\u001b[0;34m\u001b[0m\u001b[0;34m\u001b[0m\u001b[0m\n",
      "\u001b[0;32m~/Desktop/hub/dataton_cdmx/venv/lib/python3.9/site-packages/pandas/core/internals/construction.py\u001b[0m in \u001b[0;36m_check_values_indices_shape_match\u001b[0;34m(values, index, columns)\u001b[0m\n\u001b[1;32m    391\u001b[0m         \u001b[0mpassed\u001b[0m \u001b[0;34m=\u001b[0m \u001b[0mvalues\u001b[0m\u001b[0;34m.\u001b[0m\u001b[0mshape\u001b[0m\u001b[0;34m\u001b[0m\u001b[0;34m\u001b[0m\u001b[0m\n\u001b[1;32m    392\u001b[0m         \u001b[0mimplied\u001b[0m \u001b[0;34m=\u001b[0m \u001b[0;34m(\u001b[0m\u001b[0mlen\u001b[0m\u001b[0;34m(\u001b[0m\u001b[0mindex\u001b[0m\u001b[0;34m)\u001b[0m\u001b[0;34m,\u001b[0m \u001b[0mlen\u001b[0m\u001b[0;34m(\u001b[0m\u001b[0mcolumns\u001b[0m\u001b[0;34m)\u001b[0m\u001b[0;34m)\u001b[0m\u001b[0;34m\u001b[0m\u001b[0;34m\u001b[0m\u001b[0m\n\u001b[0;32m--> 393\u001b[0;31m         \u001b[0;32mraise\u001b[0m \u001b[0mValueError\u001b[0m\u001b[0;34m(\u001b[0m\u001b[0;34mf\"Shape of passed values is {passed}, indices imply {implied}\"\u001b[0m\u001b[0;34m)\u001b[0m\u001b[0;34m\u001b[0m\u001b[0;34m\u001b[0m\u001b[0m\n\u001b[0m\u001b[1;32m    394\u001b[0m \u001b[0;34m\u001b[0m\u001b[0m\n\u001b[1;32m    395\u001b[0m \u001b[0;34m\u001b[0m\u001b[0m\n",
      "\u001b[0;31mValueError\u001b[0m: Shape of passed values is (77750, 108), indices imply (77750, 34)"
     ]
    }
   ],
   "metadata": {}
  },
  {
   "cell_type": "code",
   "execution_count": null,
   "source": [],
   "outputs": [],
   "metadata": {}
  }
 ],
 "metadata": {
  "orig_nbformat": 4,
  "language_info": {
   "name": "python",
   "version": "3.9.1",
   "mimetype": "text/x-python",
   "codemirror_mode": {
    "name": "ipython",
    "version": 3
   },
   "pygments_lexer": "ipython3",
   "nbconvert_exporter": "python",
   "file_extension": ".py"
  },
  "kernelspec": {
   "name": "python3",
   "display_name": "Python 3.9.1 64-bit ('venv': venv)"
  },
  "interpreter": {
   "hash": "3d6254c2a4489d24e251f2cd74a7554b2c853c1e9726258dfe363beb22972a7a"
  }
 },
 "nbformat": 4,
 "nbformat_minor": 2
}