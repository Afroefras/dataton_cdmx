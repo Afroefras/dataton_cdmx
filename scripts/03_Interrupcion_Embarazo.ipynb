{
 "cells": [
  {
   "cell_type": "markdown",
   "source": [
    "# Interrupción Legal del Embarazo"
   ],
   "metadata": {}
  },
  {
   "cell_type": "markdown",
   "source": [
    "## Parameters"
   ],
   "metadata": {}
  },
  {
   "cell_type": "code",
   "execution_count": 1,
   "source": [
    "BASE_DIR = '/Users/efraflores/Desktop/EF/Contests/Datathon_CDMX/data' # Mac\n",
    "# BASE_DIR = r'D:\\Users\\efras\\Documents\\EF\\Contests\\Datathon_CDMX\\data' # Windows\n",
    "RESOURCE_ID = '932b56bf-c5ec-4815-9814-370d58754002' ##### API SÓLO TRAE INFO 2016\n",
    "FILE_NAME = 'interrupcion_embarazo'"
   ],
   "outputs": [],
   "metadata": {}
  },
  {
   "cell_type": "markdown",
   "source": [
    "## Import"
   ],
   "metadata": {}
  },
  {
   "cell_type": "code",
   "execution_count": 2,
   "source": [
    "from mariachis.models import InterrupcionEmbarazo\n",
    "ile = InterrupcionEmbarazo(BASE_DIR, FILE_NAME)\n",
    "print(ile)"
   ],
   "outputs": [
    {
     "output_type": "display_data",
     "data": {
      "text/html": [
       "        <script type=\"text/javascript\">\n",
       "        window.PlotlyConfig = {MathJaxConfig: 'local'};\n",
       "        if (window.MathJax) {MathJax.Hub.Config({SVG: {font: \"STIX-Web\"}});}\n",
       "        if (typeof require !== 'undefined') {\n",
       "        require.undef(\"plotly\");\n",
       "        requirejs.config({\n",
       "            paths: {\n",
       "                'plotly': ['https://cdn.plot.ly/plotly-2.4.2.min']\n",
       "            }\n",
       "        });\n",
       "        require(['plotly'], function(Plotly) {\n",
       "            window._Plotly = Plotly;\n",
       "        });\n",
       "        }\n",
       "        </script>\n",
       "        "
      ]
     },
     "metadata": {}
    },
    {
     "output_type": "stream",
     "name": "stdout",
     "text": [
      "Directorio: \t/Users/efraflores/Desktop/EF/Contests/Datathon_CDMX/data\n"
     ]
    }
   ],
   "metadata": {}
  },
  {
   "cell_type": "code",
   "execution_count": 3,
   "source": [
    "##### API SÓLO TRAE INFO 2016\n",
    "ile.full_import(api=True, api_export=False, resource_id=RESOURCE_ID)['ano'].value_counts(1)"
   ],
   "outputs": [
    {
     "output_type": "stream",
     "name": "stdout",
     "text": [
      "Archivo importado desde: https://datos.cdmx.gob.mx/api/3/action/datastore_search?resource_id=932b56bf-c5ec-4815-9814-370d58754002&distinct=true&limit=32000\n",
      "Con 1000 renglones y 48 columnas\n"
     ]
    },
    {
     "output_type": "execute_result",
     "data": {
      "text/plain": [
       "2016    1.0\n",
       "Name: ano, dtype: float64"
      ]
     },
     "metadata": {},
     "execution_count": 3
    }
   ],
   "metadata": {}
  },
  {
   "cell_type": "code",
   "execution_count": 4,
   "source": [
    "df = ile.full_import(api=False)\n",
    "df.sample()"
   ],
   "outputs": [
    {
     "output_type": "stream",
     "name": "stdout",
     "text": [
      "Archivo con nombre interrupcion_embarazo.csv fue encontrado en /Users/efraflores/Desktop/EF/Contests/Datathon_CDMX/data\n",
      "Con 79403 renglones y 47 columnas\n"
     ]
    },
    {
     "output_type": "execute_result",
     "data": {
      "text/html": [
       "<div>\n",
       "<style scoped>\n",
       "    .dataframe tbody tr th:only-of-type {\n",
       "        vertical-align: middle;\n",
       "    }\n",
       "\n",
       "    .dataframe tbody tr th {\n",
       "        vertical-align: top;\n",
       "    }\n",
       "\n",
       "    .dataframe thead th {\n",
       "        text-align: right;\n",
       "    }\n",
       "</style>\n",
       "<table border=\"1\" class=\"dataframe\">\n",
       "  <thead>\n",
       "    <tr style=\"text-align: right;\">\n",
       "      <th></th>\n",
       "      <th>año</th>\n",
       "      <th>mes</th>\n",
       "      <th>fingreso</th>\n",
       "      <th>autoref</th>\n",
       "      <th>edocivil_descripcion</th>\n",
       "      <th>edad</th>\n",
       "      <th>desc_derechohab</th>\n",
       "      <th>nivel_edu</th>\n",
       "      <th>ocupacion</th>\n",
       "      <th>religion</th>\n",
       "      <th>...</th>\n",
       "      <th>tanalgesico</th>\n",
       "      <th>cconsejo</th>\n",
       "      <th>panticoncep</th>\n",
       "      <th>fecha_cierre</th>\n",
       "      <th>resultado_ile</th>\n",
       "      <th>medicamento</th>\n",
       "      <th>clues_2</th>\n",
       "      <th>clues_hospital</th>\n",
       "      <th>procile_simplificada</th>\n",
       "      <th>procile_completa</th>\n",
       "    </tr>\n",
       "  </thead>\n",
       "  <tbody>\n",
       "    <tr>\n",
       "      <th>58054</th>\n",
       "      <td>2018.0</td>\n",
       "      <td>FEBRERO</td>\n",
       "      <td>2018-02-12</td>\n",
       "      <td>NaN</td>\n",
       "      <td>UNION LIBRE</td>\n",
       "      <td>24.0</td>\n",
       "      <td>SEGURO POPULAR</td>\n",
       "      <td>PRIMARIA</td>\n",
       "      <td>TRABAJADORA DEL HOGAR NO REMUNERADA</td>\n",
       "      <td>NINGUNA</td>\n",
       "      <td>...</td>\n",
       "      <td>NaN</td>\n",
       "      <td>SI</td>\n",
       "      <td>IMPLANTE SUBDERMICO</td>\n",
       "      <td>NaN</td>\n",
       "      <td>COMPLETA</td>\n",
       "      <td>NaN</td>\n",
       "      <td>DFSSA004270</td>\n",
       "      <td>DFSSA004270</td>\n",
       "      <td>MEDICAMENTO</td>\n",
       "      <td>MISOPROSTOL + MIFEPRISTONA</td>\n",
       "    </tr>\n",
       "  </tbody>\n",
       "</table>\n",
       "<p>1 rows × 47 columns</p>\n",
       "</div>"
      ],
      "text/plain": [
       "          año      mes    fingreso autoref edocivil_descripcion  edad  \\\n",
       "58054  2018.0  FEBRERO  2018-02-12     NaN          UNION LIBRE  24.0   \n",
       "\n",
       "      desc_derechohab nivel_edu                            ocupacion religion  \\\n",
       "58054  SEGURO POPULAR  PRIMARIA  TRABAJADORA DEL HOGAR NO REMUNERADA  NINGUNA   \n",
       "\n",
       "       ... tanalgesico cconsejo          panticoncep fecha_cierre  \\\n",
       "58054  ...         NaN       SI  IMPLANTE SUBDERMICO          NaN   \n",
       "\n",
       "       resultado_ile medicamento      clues_2  clues_hospital  \\\n",
       "58054       COMPLETA         NaN  DFSSA004270     DFSSA004270   \n",
       "\n",
       "       procile_simplificada            procile_completa  \n",
       "58054           MEDICAMENTO  MISOPROSTOL + MIFEPRISTONA  \n",
       "\n",
       "[1 rows x 47 columns]"
      ]
     },
     "metadata": {},
     "execution_count": 4
    }
   ],
   "metadata": {}
  },
  {
   "cell_type": "markdown",
   "source": [
    "## Dict"
   ],
   "metadata": {}
  },
  {
   "cell_type": "code",
   "execution_count": 5,
   "source": [
    "# Diccionario para aplicar limpieza por tipo de variable\n",
    "full_dict = {}\n",
    "\n",
    "# Variables que o son 0 o > 0\n",
    "full_dict['vars_numbin'] = ['naborto', 'npartos', 'ncesarea', 'nile']\n",
    "\n",
    "# Numéricas que serán partidas en rangos\n",
    "full_dict['vars_num'] = {\n",
    "    'edad': [9,11,15,18,21,25,29,35],\n",
    "    'menarca': [7,11,12,13,14,15],\n",
    "    'fsexual': [7,11,15,18,21],\n",
    "    'sememb': [3,6,9,12,20],\n",
    "    'nhijos': [0,1,2],\n",
    "    'gesta': [0,1,2,3,4],\n",
    "    'c_num': [0,1,2],\n",
    "    'p_semgest': [0,5,6,7,8,9],\n",
    "    'p_diasgesta': [0,1,2,3,4,5]\n",
    "}\n",
    "\n",
    "# Obtener la primer palabra\n",
    "full_dict['vars_first_word'] = ['anticonceptivo',  'panticoncep']\n",
    "\n",
    "# Binarias de sí o no\n",
    "full_dict['vars_yes_no'] = ['autoref', 'consejeria', 'p_consent', 's_complica', 'c_dolor', 'tanalgesico', 'cconsejo', 'resultado_ile']\n",
    "\n",
    "# Sólo cambiar nulos por \"DESCONOCIDO\"\n",
    "full_dict['vars_just_fill_na'] = ['entidad', 'motiles', 'desc_servicio', 'anticonceptivo', 'panticoncep']\n",
    "\n",
    "# Agrupar categorías\n",
    "full_dict['vars_cat'] = {\n",
    "    'edocivil_descripcion':{\n",
    "        'SOLTERA':'SOLTERX', \n",
    "        'UNION LIBRE':'UNION_LIBRE', \n",
    "        'CASADA':'CASADX',\n",
    "        'DIVORCIADA':'SEPARADX',\n",
    "        'SEPARADA':'SEPARADX',\n",
    "        'VIUDA':'SEPARADX',\n",
    "    },\n",
    "    'ocupacion':{\n",
    "        'EMPLEADA':'EMPLEADX',\n",
    "        'ESTUDIANTE':'ESTUDIANTE',\n",
    "        'TRABAJADORA DEL HOGAR NO REMUNERADA':'TRAB_HOGAR_NO_REMUNERADX',\n",
    "        'DESEMPLEADA':'DESEMPLEADX',\n",
    "    },\n",
    "    'desc_derechohab':{\n",
    "        'NINGUNO':'NINGUNO',\n",
    "        'IMSS':'ALGUNO',\n",
    "        'SEGURO POPULAR':'ALGUNO',\n",
    "        'OTRA':'ALGUNO',\n",
    "        'ISSSTE':'ALGUNO',\n",
    "    },\n",
    "    'nivel_edu':{\n",
    "        'LICENCIATURA':'LICENCIATURA',\n",
    "        'MAESTRIA':'POSGRADO',\n",
    "        'DOCTORADO':'POSGRADO',\n",
    "        'PREPARATORIA':'PREPARATORIA',\n",
    "        'SECUNDARIA':'SECUNDARIA',\n",
    "        'PRIMARIA':'PRIMARIA',\n",
    "        'SIN ACCESO A LA EDUCACION FORMAL':'SIN_ACCESO',\n",
    "    },\n",
    "    'parentesco':{\n",
    "        'PAREJA':'PAREJA',\n",
    "        'EX-PAREJA':'PAREJA',\n",
    "        'FAMILIAR MUJER':'FAMILIAR',\n",
    "        'FAMILIAR HOMBRE':'FAMILIAR',\n",
    "        'FAMILIAR SIN ESPECIFICAR':'FAMILIAR',\n",
    "        'TUTOR O RESPONSABLE LEGAL':'FAMILIAR',\n",
    "        'PERSONA CERCANA':'AMIGX',\n",
    "        'PERSONA CERCANA MUJER':'AMIGX',\n",
    "        'PERSONA CERCANA HOMBRE':'AMIGX',\n",
    "        'AMIGA':'AMIGX',\n",
    "        'AMIGO':'AMIGX',\n",
    "        'CONOCIDA':'OTRX',\n",
    "        'CONOCIDO':'OTRX',\n",
    "        'RELACION LABORAL':'OTRX',\n",
    "        'OTRA':'OTRX',\n",
    "    },\n",
    "    'religion':{\n",
    "        'NINGUNA':'NINGUNA',\n",
    "        'CATOLICA':'SI',\n",
    "        'CRISTIANA':'SI',\n",
    "        'OTRA':'SI',\n",
    "        'MORMONA':'SI',\n",
    "        'TESTIGA DE JEHOVA':'SI',\n",
    "        'BUDISTA':'SI',\n",
    "        'JUDIA':'SI',\n",
    "        'ANGLICANA':'SI',\n",
    "        'MUSULMANA':'SI',\n",
    "    },\n",
    "}"
   ],
   "outputs": [],
   "metadata": {}
  },
  {
   "cell_type": "markdown",
   "source": [
    "### Auxiliar para rangos de variables numéricas"
   ],
   "metadata": {}
  },
  {
   "cell_type": "code",
   "execution_count": 8,
   "source": [
    "from pandas import qcut\n",
    "from IPython.display import display\n",
    "\n",
    "aux_dict = {}\n",
    "for col in full_dict['vars_num']:\n",
    "    new_col = df[col].map(ile.clean_number).astype(float)\n",
    "    orig_bins = qcut(new_col, q=6, retbins=True, duplicates='drop')[-1]\n",
    "    aux_dict[col] = list(orig_bins[:-1])\n",
    "display(aux_dict)"
   ],
   "outputs": [
    {
     "output_type": "display_data",
     "data": {
      "text/plain": [
       "{'edad': [11.0, 20.0, 22.0, 25.0, 28.0, 32.0],\n",
       " 'menarca': [0.0, 11.0, 12.0, 13.0, 14.0],\n",
       " 'fsexual': [0.0, 15.0, 16.0, 17.0, 18.0, 19.0],\n",
       " 'sememb': [0.0, 5.0, 6.0, 7.0, 8.0, 9.0],\n",
       " 'nhijos': [0.0, 1.0, 2.0],\n",
       " 'gesta': [0.0, 1.0, 2.0, 3.0, 4.0],\n",
       " 'c_num': [0.0, 1.0, 2.0],\n",
       " 'p_semgest': [0.0, 5.0, 6.0, 7.0, 8.0, 9.0],\n",
       " 'p_diasgesta': [0.0, 1.0, 2.0, 3.0, 4.0, 5.0]}"
      ]
     },
     "metadata": {}
    }
   ],
   "metadata": {}
  },
  {
   "cell_type": "markdown",
   "source": [
    "## Transform"
   ],
   "metadata": {}
  },
  {
   "cell_type": "code",
   "execution_count": 9,
   "source": [
    "# Quitar comentarios para ejecutar proceso. Nota: Demoró 13min con 77K registros\n",
    "X = ile.wrangling_aborto(df, full_dict, export_result=True)\n",
    "X.sample(4)"
   ],
   "outputs": [
    {
     "output_type": "stream",
     "name": "stdout",
     "text": [
      "Archivo: interrupcion_embarazo_cluster.csv fue exportado exitosamente en: /Users/efraflores/Desktop/EF/Contests/Datathon_CDMX/data\n"
     ]
    },
    {
     "output_type": "execute_result",
     "data": {
      "text/html": [
       "<div>\n",
       "<style scoped>\n",
       "    .dataframe tbody tr th:only-of-type {\n",
       "        vertical-align: middle;\n",
       "    }\n",
       "\n",
       "    .dataframe tbody tr th {\n",
       "        vertical-align: top;\n",
       "    }\n",
       "\n",
       "    .dataframe thead th {\n",
       "        text-align: right;\n",
       "    }\n",
       "</style>\n",
       "<table border=\"1\" class=\"dataframe\">\n",
       "  <thead>\n",
       "    <tr style=\"text-align: right;\">\n",
       "      <th></th>\n",
       "      <th>año</th>\n",
       "      <th>mes</th>\n",
       "      <th>fingreso</th>\n",
       "      <th>autoref</th>\n",
       "      <th>edocivil_descripcion</th>\n",
       "      <th>edad</th>\n",
       "      <th>desc_derechohab</th>\n",
       "      <th>nivel_edu</th>\n",
       "      <th>ocupacion</th>\n",
       "      <th>religion</th>\n",
       "      <th>...</th>\n",
       "      <th>rango_edad</th>\n",
       "      <th>rango_menarca</th>\n",
       "      <th>rango_fsexual</th>\n",
       "      <th>rango_sememb</th>\n",
       "      <th>rango_nhijos</th>\n",
       "      <th>rango_gesta</th>\n",
       "      <th>rango_c_num</th>\n",
       "      <th>rango_p_semgest</th>\n",
       "      <th>rango_p_diasgesta</th>\n",
       "      <th>cluster</th>\n",
       "    </tr>\n",
       "  </thead>\n",
       "  <tbody>\n",
       "    <tr>\n",
       "      <th>41977</th>\n",
       "      <td>2016.0</td>\n",
       "      <td>MARZO</td>\n",
       "      <td>2016-03-15 00:00:00</td>\n",
       "      <td>SI</td>\n",
       "      <td>UNION_LIBRE</td>\n",
       "      <td>26.0</td>\n",
       "      <td>DESCONOCIDO</td>\n",
       "      <td>PRIMARIA</td>\n",
       "      <td>TRAB_HOGAR_NO_REMUNERADX</td>\n",
       "      <td>SI</td>\n",
       "      <td>...</td>\n",
       "      <td>26 a 29</td>\n",
       "      <td>14</td>\n",
       "      <td>16 a 18</td>\n",
       "      <td>04 a 06</td>\n",
       "      <td>&gt; 02</td>\n",
       "      <td>04</td>\n",
       "      <td>&gt; 02</td>\n",
       "      <td>06</td>\n",
       "      <td>02</td>\n",
       "      <td>E</td>\n",
       "    </tr>\n",
       "    <tr>\n",
       "      <th>66358</th>\n",
       "      <td>2016.0</td>\n",
       "      <td>ABRIL</td>\n",
       "      <td>2016-04-29 00:00:00</td>\n",
       "      <td>DESCONOCIDO</td>\n",
       "      <td>SOLTERX</td>\n",
       "      <td>32.0</td>\n",
       "      <td>NINGUNO</td>\n",
       "      <td>PREPARATORIA</td>\n",
       "      <td>EMPLEADX</td>\n",
       "      <td>SI</td>\n",
       "      <td>...</td>\n",
       "      <td>30 a 35</td>\n",
       "      <td>12</td>\n",
       "      <td>19 a 21</td>\n",
       "      <td>07 a 09</td>\n",
       "      <td>01</td>\n",
       "      <td>02</td>\n",
       "      <td>01</td>\n",
       "      <td>07</td>\n",
       "      <td>03</td>\n",
       "      <td>C</td>\n",
       "    </tr>\n",
       "    <tr>\n",
       "      <th>35141</th>\n",
       "      <td>2019.0</td>\n",
       "      <td>ENERO</td>\n",
       "      <td>2019-01-30 00:00:00</td>\n",
       "      <td>DESCONOCIDO</td>\n",
       "      <td>SEPARADX</td>\n",
       "      <td>29.0</td>\n",
       "      <td>NINGUNO</td>\n",
       "      <td>SECUNDARIA</td>\n",
       "      <td>EMPLEADX</td>\n",
       "      <td>SI</td>\n",
       "      <td>...</td>\n",
       "      <td>26 a 29</td>\n",
       "      <td>15</td>\n",
       "      <td>16 a 18</td>\n",
       "      <td>04 a 06</td>\n",
       "      <td>01</td>\n",
       "      <td>03</td>\n",
       "      <td>01</td>\n",
       "      <td>01 a 05</td>\n",
       "      <td>DESCONOCIDO</td>\n",
       "      <td>E</td>\n",
       "    </tr>\n",
       "    <tr>\n",
       "      <th>53876</th>\n",
       "      <td>2017.0</td>\n",
       "      <td>MARZO</td>\n",
       "      <td>2017-03-24 00:00:00</td>\n",
       "      <td>DESCONOCIDO</td>\n",
       "      <td>SOLTERX</td>\n",
       "      <td>20.0</td>\n",
       "      <td>ALGUNO</td>\n",
       "      <td>PREPARATORIA</td>\n",
       "      <td>ESTUDIANTE</td>\n",
       "      <td>DESCONOCIDO</td>\n",
       "      <td>...</td>\n",
       "      <td>19 a 21</td>\n",
       "      <td>08 a 11</td>\n",
       "      <td>19 a 21</td>\n",
       "      <td>07 a 09</td>\n",
       "      <td>00</td>\n",
       "      <td>02</td>\n",
       "      <td>DESCONOCIDO</td>\n",
       "      <td>01 a 05</td>\n",
       "      <td>&gt; 05</td>\n",
       "      <td>C</td>\n",
       "    </tr>\n",
       "  </tbody>\n",
       "</table>\n",
       "<p>4 rows × 62 columns</p>\n",
       "</div>"
      ],
      "text/plain": [
       "          año    mes             fingreso      autoref edocivil_descripcion  \\\n",
       "41977  2016.0  MARZO  2016-03-15 00:00:00           SI          UNION_LIBRE   \n",
       "66358  2016.0  ABRIL  2016-04-29 00:00:00  DESCONOCIDO              SOLTERX   \n",
       "35141  2019.0  ENERO  2019-01-30 00:00:00  DESCONOCIDO             SEPARADX   \n",
       "53876  2017.0  MARZO  2017-03-24 00:00:00  DESCONOCIDO              SOLTERX   \n",
       "\n",
       "       edad desc_derechohab     nivel_edu                 ocupacion  \\\n",
       "41977  26.0     DESCONOCIDO      PRIMARIA  TRAB_HOGAR_NO_REMUNERADX   \n",
       "66358  32.0         NINGUNO  PREPARATORIA                  EMPLEADX   \n",
       "35141  29.0         NINGUNO    SECUNDARIA                  EMPLEADX   \n",
       "53876  20.0          ALGUNO  PREPARATORIA                ESTUDIANTE   \n",
       "\n",
       "          religion  ... rango_edad rango_menarca rango_fsexual  rango_sememb  \\\n",
       "41977           SI  ...    26 a 29            14       16 a 18       04 a 06   \n",
       "66358           SI  ...    30 a 35            12       19 a 21       07 a 09   \n",
       "35141           SI  ...    26 a 29            15       16 a 18       04 a 06   \n",
       "53876  DESCONOCIDO  ...    19 a 21       08 a 11       19 a 21       07 a 09   \n",
       "\n",
       "       rango_nhijos rango_gesta  rango_c_num  rango_p_semgest  \\\n",
       "41977          > 02          04         > 02               06   \n",
       "66358            01          02           01               07   \n",
       "35141            01          03           01          01 a 05   \n",
       "53876            00          02  DESCONOCIDO          01 a 05   \n",
       "\n",
       "       rango_p_diasgesta cluster  \n",
       "41977                 02       E  \n",
       "66358                 03       C  \n",
       "35141        DESCONOCIDO       E  \n",
       "53876               > 05       C  \n",
       "\n",
       "[4 rows x 62 columns]"
      ]
     },
     "metadata": {},
     "execution_count": 9
    }
   ],
   "metadata": {}
  },
  {
   "cell_type": "markdown",
   "source": [
    "## Checkpoint"
   ],
   "metadata": {}
  },
  {
   "cell_type": "code",
   "execution_count": null,
   "source": [
    "from pandas import read_csv\n",
    "from pathlib import Path\n",
    "\n",
    "# Si no se desea re-clusterizar, entonces mantener comentarios de la sección pasada e importar el resultado desde esta celda\n",
    "vars_cat = list(set(\n",
    "            full_dict['vars_first_word']+\n",
    "            list(full_dict['vars_cat'].keys())+\n",
    "            full_dict['vars_yes_no']+\n",
    "            full_dict['vars_just_fill_na']\n",
    "        ))\n",
    "cluster_cols = vars_cat+[f'rango_{col}' for col in full_dict['vars_num'].keys()]+full_dict['vars_numbin']\n",
    "add_cols = ['año','mes','alc_o_municipio']\n",
    "\n",
    "df = read_csv(Path(BASE_DIR).joinpath(FILE_NAME+'_cluster.csv'), low_memory=False)\n",
    "df.sample()"
   ],
   "outputs": [],
   "metadata": {}
  },
  {
   "cell_type": "markdown",
   "source": [
    "## Perfilamiento"
   ],
   "metadata": {}
  },
  {
   "cell_type": "code",
   "execution_count": null,
   "source": [
    "ile.profiles(df[cluster_cols+add_cols+['cluster']])"
   ],
   "outputs": [],
   "metadata": {}
  },
  {
   "cell_type": "code",
   "execution_count": null,
   "source": [],
   "outputs": [],
   "metadata": {}
  }
 ],
 "metadata": {
  "orig_nbformat": 4,
  "language_info": {
   "name": "python",
   "version": "3.9.1",
   "mimetype": "text/x-python",
   "codemirror_mode": {
    "name": "ipython",
    "version": 3
   },
   "pygments_lexer": "ipython3",
   "nbconvert_exporter": "python",
   "file_extension": ".py"
  },
  "kernelspec": {
   "name": "python3",
   "display_name": "Python 3.9.1 64-bit ('venv': venv)"
  },
  "interpreter": {
   "hash": "3d6254c2a4489d24e251f2cd74a7554b2c853c1e9726258dfe363beb22972a7a"
  }
 },
 "nbformat": 4,
 "nbformat_minor": 2
}