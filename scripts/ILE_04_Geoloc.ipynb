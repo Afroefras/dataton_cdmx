{
 "cells": [
  {
   "cell_type": "markdown",
   "metadata": {},
   "source": [
    "# Geolocalización"
   ]
  },
  {
   "cell_type": "markdown",
   "metadata": {},
   "source": [
    "## Parámetros"
   ]
  },
  {
   "cell_type": "code",
   "execution_count": 1,
   "metadata": {},
   "outputs": [],
   "source": [
    "BASE_DIR = '/Users/efraflores/Desktop/EF/Contests/Datathon_CDMX/data' # Mac\n",
    "# BASE_DIR = r'D:\\Users\\efras\\Documents\\EF\\Contests\\Datathon_CDMX\\data' # Windows\n",
    "ILE_NAME = 'ile_limpio_cluster'\n",
    "GEO_NAME = 'localidades'"
   ]
  },
  {
   "cell_type": "markdown",
   "metadata": {},
   "source": [
    "## Importar"
   ]
  },
  {
   "cell_type": "markdown",
   "metadata": {},
   "source": [
    "### Clases"
   ]
  },
  {
   "cell_type": "code",
   "execution_count": 2,
   "metadata": {},
   "outputs": [
    {
     "data": {
      "text/html": [
       "        <script type=\"text/javascript\">\n",
       "        window.PlotlyConfig = {MathJaxConfig: 'local'};\n",
       "        if (window.MathJax) {MathJax.Hub.Config({SVG: {font: \"STIX-Web\"}});}\n",
       "        if (typeof require !== 'undefined') {\n",
       "        require.undef(\"plotly\");\n",
       "        requirejs.config({\n",
       "            paths: {\n",
       "                'plotly': ['https://cdn.plot.ly/plotly-2.4.2.min']\n",
       "            }\n",
       "        });\n",
       "        require(['plotly'], function(Plotly) {\n",
       "            window._Plotly = Plotly;\n",
       "        });\n",
       "        }\n",
       "        </script>\n",
       "        "
      ]
     },
     "metadata": {},
     "output_type": "display_data"
    }
   ],
   "source": [
    "from mariachis.localidades import GeoLoc\n",
    "\n",
    "ile_class = GeoLoc(BASE_DIR, ILE_NAME)\n",
    "geo_class = GeoLoc(BASE_DIR, GEO_NAME, iso_country_code='MX')"
   ]
  },
  {
   "cell_type": "markdown",
   "metadata": {},
   "source": [
    "### ILE limpio y con cluster"
   ]
  },
  {
   "cell_type": "code",
   "execution_count": 3,
   "metadata": {},
   "outputs": [
    {
     "name": "stdout",
     "output_type": "stream",
     "text": [
      "Archivo con nombre ile_limpio_cluster.csv fue encontrado en:\n",
      "/Users/efraflores/Desktop/EF/Contests/Datathon_CDMX/data\n",
      "Con 79383 renglones y 73 columnas\n"
     ]
    },
    {
     "data": {
      "text/html": [
       "<div>\n",
       "<style scoped>\n",
       "    .dataframe tbody tr th:only-of-type {\n",
       "        vertical-align: middle;\n",
       "    }\n",
       "\n",
       "    .dataframe tbody tr th {\n",
       "        vertical-align: top;\n",
       "    }\n",
       "\n",
       "    .dataframe thead th {\n",
       "        text-align: right;\n",
       "    }\n",
       "</style>\n",
       "<table border=\"1\" class=\"dataframe\">\n",
       "  <thead>\n",
       "    <tr style=\"text-align: right;\">\n",
       "      <th></th>\n",
       "      <th>año</th>\n",
       "      <th>mes</th>\n",
       "      <th>fingreso</th>\n",
       "      <th>autoref</th>\n",
       "      <th>edocivil_descripcion</th>\n",
       "      <th>edad</th>\n",
       "      <th>desc_derechohab</th>\n",
       "      <th>nivel_edu</th>\n",
       "      <th>ocupacion</th>\n",
       "      <th>religion</th>\n",
       "      <th>...</th>\n",
       "      <th>rango_p_diasgesta</th>\n",
       "      <th>rango_fsexual_vs_menarca</th>\n",
       "      <th>rango_edad_vs_menarca</th>\n",
       "      <th>rango_edad_vs_fsexual</th>\n",
       "      <th>antes_vs_despues</th>\n",
       "      <th>antes_vs_despues_detalle</th>\n",
       "      <th>cluster</th>\n",
       "      <th>nombre</th>\n",
       "      <th>conclusión general</th>\n",
       "      <th>características de minorías</th>\n",
       "    </tr>\n",
       "  </thead>\n",
       "  <tbody>\n",
       "    <tr>\n",
       "      <th>60716</th>\n",
       "      <td>2018.0</td>\n",
       "      <td>JULIO</td>\n",
       "      <td>2018-07-12</td>\n",
       "      <td>DESCONOCIDO</td>\n",
       "      <td>CASADX</td>\n",
       "      <td>39.0</td>\n",
       "      <td>ALGUNO</td>\n",
       "      <td>SECUNDARIA</td>\n",
       "      <td>TRAB_HOGAR_NO_REMUNERADX</td>\n",
       "      <td>SI</td>\n",
       "      <td>...</td>\n",
       "      <td>DESCONOCIDO</td>\n",
       "      <td>01 a 03</td>\n",
       "      <td>&gt;= 18</td>\n",
       "      <td>&gt;= 13</td>\n",
       "      <td>DIFERENTE</td>\n",
       "      <td>antes: DIU, después: DESCONOCIDO</td>\n",
       "      <td>C</td>\n",
       "      <td>Madres con gesta avanzada</td>\n",
       "      <td>Trabajadorx del hogar no remuneradx con prepar...</td>\n",
       "      <td>Servicio de cirugía ambulatoria. Procedimiento...</td>\n",
       "    </tr>\n",
       "  </tbody>\n",
       "</table>\n",
       "<p>1 rows × 73 columns</p>\n",
       "</div>"
      ],
      "text/plain": [
       "          año    mes    fingreso      autoref edocivil_descripcion  edad  \\\n",
       "60716  2018.0  JULIO  2018-07-12  DESCONOCIDO               CASADX  39.0   \n",
       "\n",
       "      desc_derechohab   nivel_edu                 ocupacion religion  ...  \\\n",
       "60716          ALGUNO  SECUNDARIA  TRAB_HOGAR_NO_REMUNERADX       SI  ...   \n",
       "\n",
       "      rango_p_diasgesta rango_fsexual_vs_menarca rango_edad_vs_menarca  \\\n",
       "60716       DESCONOCIDO                  01 a 03                 >= 18   \n",
       "\n",
       "      rango_edad_vs_fsexual antes_vs_despues  \\\n",
       "60716                 >= 13        DIFERENTE   \n",
       "\n",
       "               antes_vs_despues_detalle cluster                     nombre  \\\n",
       "60716  antes: DIU, después: DESCONOCIDO       C  Madres con gesta avanzada   \n",
       "\n",
       "                                      conclusión general  \\\n",
       "60716  Trabajadorx del hogar no remuneradx con prepar...   \n",
       "\n",
       "                             características de minorías  \n",
       "60716  Servicio de cirugía ambulatoria. Procedimiento...  \n",
       "\n",
       "[1 rows x 73 columns]"
      ]
     },
     "execution_count": 3,
     "metadata": {},
     "output_type": "execute_result"
    }
   ],
   "source": [
    "ile = ile_class.full_import(api=False)\n",
    "ile.sample()"
   ]
  },
  {
   "cell_type": "markdown",
   "metadata": {},
   "source": [
    "### Localidades por URL"
   ]
  },
  {
   "cell_type": "code",
   "execution_count": 4,
   "metadata": {},
   "outputs": [
    {
     "name": "stdout",
     "output_type": "stream",
     "text": [
      "Archivo: localidades.csv fue exportado exitosamente en:\n",
      "/Users/efraflores/Desktop/EF/Contests/Datathon_CDMX/data\n"
     ]
    },
    {
     "data": {
      "text/html": [
       "<div>\n",
       "<style scoped>\n",
       "    .dataframe tbody tr th:only-of-type {\n",
       "        vertical-align: middle;\n",
       "    }\n",
       "\n",
       "    .dataframe tbody tr th {\n",
       "        vertical-align: top;\n",
       "    }\n",
       "\n",
       "    .dataframe thead th {\n",
       "        text-align: right;\n",
       "    }\n",
       "</style>\n",
       "<table border=\"1\" class=\"dataframe\">\n",
       "  <thead>\n",
       "    <tr style=\"text-align: right;\">\n",
       "      <th></th>\n",
       "      <th>country_code</th>\n",
       "      <th>postal_code</th>\n",
       "      <th>place_name</th>\n",
       "      <th>state_name</th>\n",
       "      <th>state_code</th>\n",
       "      <th>province_name</th>\n",
       "      <th>province_code</th>\n",
       "      <th>community_name</th>\n",
       "      <th>community_code</th>\n",
       "      <th>lat</th>\n",
       "      <th>lon</th>\n",
       "      <th>accuracy</th>\n",
       "    </tr>\n",
       "  </thead>\n",
       "  <tbody>\n",
       "    <tr>\n",
       "      <th>57674</th>\n",
       "      <td>MX</td>\n",
       "      <td>47948</td>\n",
       "      <td>Fraile de Núñez</td>\n",
       "      <td>Jalisco</td>\n",
       "      <td>14</td>\n",
       "      <td>Ayotlán</td>\n",
       "      <td>016</td>\n",
       "      <td></td>\n",
       "      <td></td>\n",
       "      <td>20.4792</td>\n",
       "      <td>-102.3921</td>\n",
       "      <td>3</td>\n",
       "    </tr>\n",
       "  </tbody>\n",
       "</table>\n",
       "</div>"
      ],
      "text/plain": [
       "      country_code postal_code       place_name state_name state_code  \\\n",
       "57674           MX       47948  Fraile de Núñez    Jalisco         14   \n",
       "\n",
       "      province_name province_code community_name community_code      lat  \\\n",
       "57674       Ayotlán           016                                20.4792   \n",
       "\n",
       "             lon accuracy  \n",
       "57674  -102.3921        3  "
      ]
     },
     "execution_count": 4,
     "metadata": {},
     "output_type": "execute_result"
    }
   ],
   "source": [
    "geo = geo_class.get_data()\n",
    "geo.sample()"
   ]
  },
  {
   "cell_type": "markdown",
   "metadata": {},
   "source": [
    "## Municipios"
   ]
  },
  {
   "cell_type": "markdown",
   "metadata": {},
   "source": [
    "### Transformación"
   ]
  },
  {
   "cell_type": "code",
   "execution_count": 5,
   "metadata": {},
   "outputs": [
    {
     "name": "stdout",
     "output_type": "stream",
     "text": [
      "Archivo: localidades_geoloc.csv fue exportado exitosamente en:\n",
      "/Users/efraflores/Desktop/EF/Contests/Datathon_CDMX/data\n"
     ]
    },
    {
     "data": {
      "text/html": [
       "<div>\n",
       "<style scoped>\n",
       "    .dataframe tbody tr th:only-of-type {\n",
       "        vertical-align: middle;\n",
       "    }\n",
       "\n",
       "    .dataframe tbody tr th {\n",
       "        vertical-align: top;\n",
       "    }\n",
       "\n",
       "    .dataframe thead th {\n",
       "        text-align: right;\n",
       "    }\n",
       "</style>\n",
       "<table border=\"1\" class=\"dataframe\">\n",
       "  <thead>\n",
       "    <tr style=\"text-align: right;\">\n",
       "      <th></th>\n",
       "      <th>group</th>\n",
       "      <th>geometry</th>\n",
       "      <th>country_code</th>\n",
       "      <th>postal_code</th>\n",
       "      <th>place_name</th>\n",
       "      <th>state_name</th>\n",
       "      <th>state_code</th>\n",
       "      <th>province_name</th>\n",
       "      <th>province_code</th>\n",
       "      <th>community_name</th>\n",
       "      <th>community_code</th>\n",
       "      <th>lat</th>\n",
       "      <th>lon</th>\n",
       "      <th>accuracy</th>\n",
       "      <th>area</th>\n",
       "      <th>boundary</th>\n",
       "      <th>centroid</th>\n",
       "      <th>convex_hull</th>\n",
       "      <th>centroid_lat</th>\n",
       "      <th>centroid_lon</th>\n",
       "    </tr>\n",
       "  </thead>\n",
       "  <tbody>\n",
       "    <tr>\n",
       "      <th>563</th>\n",
       "      <td>Guerrero, Tlapehuala</td>\n",
       "      <td>MULTIPOLYGON (((-100.470 18.216, -100.471 18.2...</td>\n",
       "      <td>MX</td>\n",
       "      <td>40600</td>\n",
       "      <td>Tupatarillo</td>\n",
       "      <td>Guerrero</td>\n",
       "      <td>12</td>\n",
       "      <td>Tlapehuala</td>\n",
       "      <td>067</td>\n",
       "      <td>Tlapehuala</td>\n",
       "      <td>31</td>\n",
       "      <td>18.2803</td>\n",
       "      <td>-100.4533</td>\n",
       "      <td>4</td>\n",
       "      <td>0.047131</td>\n",
       "      <td>MULTILINESTRING ((-100.470 18.216, -100.471 18...</td>\n",
       "      <td>POINT (-100.474 18.305)</td>\n",
       "      <td>POLYGON ((-100.526 18.176, -100.531 18.176, -1...</td>\n",
       "      <td>-100.474162</td>\n",
       "      <td>18.304846</td>\n",
       "    </tr>\n",
       "  </tbody>\n",
       "</table>\n",
       "</div>"
      ],
      "text/plain": [
       "                    group                                           geometry  \\\n",
       "563  Guerrero, Tlapehuala  MULTIPOLYGON (((-100.470 18.216, -100.471 18.2...   \n",
       "\n",
       "    country_code postal_code   place_name state_name state_code province_name  \\\n",
       "563           MX       40600  Tupatarillo   Guerrero         12    Tlapehuala   \n",
       "\n",
       "    province_code community_name community_code      lat        lon accuracy  \\\n",
       "563           067     Tlapehuala             31  18.2803  -100.4533        4   \n",
       "\n",
       "         area                                           boundary  \\\n",
       "563  0.047131  MULTILINESTRING ((-100.470 18.216, -100.471 18...   \n",
       "\n",
       "                    centroid  \\\n",
       "563  POINT (-100.474 18.305)   \n",
       "\n",
       "                                           convex_hull  centroid_lat  \\\n",
       "563  POLYGON ((-100.526 18.176, -100.531 18.176, -1...   -100.474162   \n",
       "\n",
       "     centroid_lon  \n",
       "563     18.304846  "
      ]
     },
     "execution_count": 5,
     "metadata": {},
     "output_type": "execute_result"
    }
   ],
   "source": [
    "geo = geo_class.wrangling_geo(geo)\n",
    "geo.sample()"
   ]
  },
  {
   "cell_type": "markdown",
   "metadata": {},
   "source": [
    "### Mapa"
   ]
  },
  {
   "cell_type": "code",
   "execution_count": 6,
   "metadata": {},
   "outputs": [
    {
     "data": {
      "text/plain": [
       "<AxesSubplot:>"
      ]
     },
     "execution_count": 6,
     "metadata": {},
     "output_type": "execute_result"
    },
    {
     "data": {
      "image/png": "[encoded data removed]",
      "text/plain": [
       "<Figure size 432x288 with 1 Axes>"
      ]
     },
     "metadata": {
      "needs_background": "light"
     },
     "output_type": "display_data"
    }
   ],
   "source": [
    "geo['boundary'].plot()"
   ]
  },
  {
   "cell_type": "markdown",
   "metadata": {},
   "source": [
    "## Unión"
   ]
  },
  {
   "cell_type": "code",
   "execution_count": 7,
   "metadata": {},
   "outputs": [
    {
     "name": "stdout",
     "output_type": "stream",
     "text": [
      "Archivo: ile_limpio_cluster_geoloc.csv fue exportado exitosamente en:\n",
      "/Users/efraflores/Desktop/EF/Contests/Datathon_CDMX/data\n",
      "(68442, 95)\n"
     ]
    },
    {
     "data": {
      "text/html": [
       "<div>\n",
       "<style scoped>\n",
       "    .dataframe tbody tr th:only-of-type {\n",
       "        vertical-align: middle;\n",
       "    }\n",
       "\n",
       "    .dataframe tbody tr th {\n",
       "        vertical-align: top;\n",
       "    }\n",
       "\n",
       "    .dataframe thead th {\n",
       "        text-align: right;\n",
       "    }\n",
       "</style>\n",
       "<table border=\"1\" class=\"dataframe\">\n",
       "  <thead>\n",
       "    <tr style=\"text-align: right;\">\n",
       "      <th></th>\n",
       "      <th>index</th>\n",
       "      <th>año</th>\n",
       "      <th>mes</th>\n",
       "      <th>fingreso</th>\n",
       "      <th>autoref</th>\n",
       "      <th>edocivil_descripcion</th>\n",
       "      <th>edad</th>\n",
       "      <th>desc_derechohab</th>\n",
       "      <th>nivel_edu</th>\n",
       "      <th>ocupacion</th>\n",
       "      <th>...</th>\n",
       "      <th>community_code</th>\n",
       "      <th>lat</th>\n",
       "      <th>lon</th>\n",
       "      <th>accuracy</th>\n",
       "      <th>area</th>\n",
       "      <th>boundary</th>\n",
       "      <th>centroid</th>\n",
       "      <th>convex_hull</th>\n",
       "      <th>centroid_lat</th>\n",
       "      <th>centroid_lon</th>\n",
       "    </tr>\n",
       "  </thead>\n",
       "  <tbody>\n",
       "    <tr>\n",
       "      <th>45158</th>\n",
       "      <td>14312</td>\n",
       "      <td>2020.0</td>\n",
       "      <td>AGOSTO</td>\n",
       "      <td>2020-08-27</td>\n",
       "      <td>DESCONOCIDO</td>\n",
       "      <td>UNION_LIBRE</td>\n",
       "      <td>31.0</td>\n",
       "      <td>ALGUNO</td>\n",
       "      <td>PREPARATORIA</td>\n",
       "      <td>EMPLEADX</td>\n",
       "      <td>...</td>\n",
       "      <td>09</td>\n",
       "      <td>19.3874</td>\n",
       "      <td>-99.1213</td>\n",
       "      <td>3</td>\n",
       "      <td>0.074908</td>\n",
       "      <td>MULTILINESTRING ((-99.206 19.334, -99.209 19.3...</td>\n",
       "      <td>POINT (-99.114 19.347)</td>\n",
       "      <td>POLYGON ((-99.135 19.138, -99.140 19.139, -99....</td>\n",
       "      <td>-99.114401</td>\n",
       "      <td>19.346515</td>\n",
       "    </tr>\n",
       "  </tbody>\n",
       "</table>\n",
       "<p>1 rows × 95 columns</p>\n",
       "</div>"
      ],
      "text/plain": [
       "       index     año     mes    fingreso      autoref edocivil_descripcion  \\\n",
       "45158  14312  2020.0  AGOSTO  2020-08-27  DESCONOCIDO          UNION_LIBRE   \n",
       "\n",
       "       edad desc_derechohab     nivel_edu ocupacion  ... community_code  \\\n",
       "45158  31.0          ALGUNO  PREPARATORIA  EMPLEADX  ...             09   \n",
       "\n",
       "           lat       lon accuracy      area  \\\n",
       "45158  19.3874  -99.1213        3  0.074908   \n",
       "\n",
       "                                                boundary  \\\n",
       "45158  MULTILINESTRING ((-99.206 19.334, -99.209 19.3...   \n",
       "\n",
       "                     centroid  \\\n",
       "45158  POINT (-99.114 19.347)   \n",
       "\n",
       "                                             convex_hull centroid_lat  \\\n",
       "45158  POLYGON ((-99.135 19.138, -99.140 19.139, -99....   -99.114401   \n",
       "\n",
       "      centroid_lon  \n",
       "45158    19.346515  \n",
       "\n",
       "[1 rows x 95 columns]"
      ]
     },
     "execution_count": 7,
     "metadata": {},
     "output_type": "execute_result"
    }
   ],
   "source": [
    "df = ile_class.merge_with_ile(ile, geo)\n",
    "print(df.shape)\n",
    "df.sample()"
   ]
  },
  {
   "cell_type": "markdown",
   "metadata": {},
   "source": [
    "## Clustering de localidades"
   ]
  },
  {
   "cell_type": "code",
   "execution_count": 8,
   "metadata": {},
   "outputs": [
    {
     "name": "stdout",
     "output_type": "stream",
     "text": [
      "Archivo: ile_limpio_cluster_group.csv fue exportado exitosamente en:\n",
      "/Users/efraflores/Desktop/EF/Contests/Datathon_CDMX/data\n"
     ]
    },
    {
     "data": {
      "text/html": [
       "<div>\n",
       "<style scoped>\n",
       "    .dataframe tbody tr th:only-of-type {\n",
       "        vertical-align: middle;\n",
       "    }\n",
       "\n",
       "    .dataframe tbody tr th {\n",
       "        vertical-align: top;\n",
       "    }\n",
       "\n",
       "    .dataframe thead th {\n",
       "        text-align: right;\n",
       "    }\n",
       "</style>\n",
       "<table border=\"1\" class=\"dataframe\">\n",
       "  <thead>\n",
       "    <tr style=\"text-align: right;\">\n",
       "      <th></th>\n",
       "      <th></th>\n",
       "      <th>1er Interrupción Legal del Embarazo (ILE) de personas con educación superior</th>\n",
       "      <th>Atención directa en servicio Gineco-Obstetricia (GO)</th>\n",
       "      <th>Educación restringida e Inicio de Vida Sexual Activa (IVSA) temprana</th>\n",
       "      <th>Estudiantes de nivel media-superior y superior con decisión de Anticonceptivos Reversibles de Larga Duración (ARLD) post-ILE</th>\n",
       "      <th>Jóvenes de 22-25 desempleadas con decisión de ILE en año de pandemia</th>\n",
       "      <th>Jóvenes de preparatoria con decisión de ILE en su primer gesta</th>\n",
       "      <th>Madres con gesta avanzada</th>\n",
       "      <th>Madres maduras con pareja en unión libre</th>\n",
       "      <th>Madres maduras foráneas con menarca temprana</th>\n",
       "      <th>Trabajadoras del hogar no remuneradas sin hijos</th>\n",
       "      <th>cluster</th>\n",
       "    </tr>\n",
       "    <tr>\n",
       "      <th>entidad</th>\n",
       "      <th>alc_o_municipio</th>\n",
       "      <th></th>\n",
       "      <th></th>\n",
       "      <th></th>\n",
       "      <th></th>\n",
       "      <th></th>\n",
       "      <th></th>\n",
       "      <th></th>\n",
       "      <th></th>\n",
       "      <th></th>\n",
       "      <th></th>\n",
       "      <th></th>\n",
       "    </tr>\n",
       "  </thead>\n",
       "  <tbody>\n",
       "    <tr>\n",
       "      <th>ESTADO DE MEXICO</th>\n",
       "      <th>VALLE DE CHALCO</th>\n",
       "      <td>0.146296</td>\n",
       "      <td>0.040741</td>\n",
       "      <td>0.148148</td>\n",
       "      <td>0.124074</td>\n",
       "      <td>0.138889</td>\n",
       "      <td>0.085185</td>\n",
       "      <td>0.088889</td>\n",
       "      <td>0.057407</td>\n",
       "      <td>0.053704</td>\n",
       "      <td>0.116667</td>\n",
       "      <td>B</td>\n",
       "    </tr>\n",
       "  </tbody>\n",
       "</table>\n",
       "</div>"
      ],
      "text/plain": [
       "                                  1er Interrupción Legal del Embarazo (ILE) de personas con educación superior  \\\n",
       "entidad          alc_o_municipio                                                                                 \n",
       "ESTADO DE MEXICO VALLE DE CHALCO                                           0.146296                              \n",
       "\n",
       "                                  Atención directa en servicio Gineco-Obstetricia (GO)  \\\n",
       "entidad          alc_o_municipio                                                         \n",
       "ESTADO DE MEXICO VALLE DE CHALCO                                           0.040741      \n",
       "\n",
       "                                  Educación restringida e Inicio de Vida Sexual Activa (IVSA) temprana  \\\n",
       "entidad          alc_o_municipio                                                                         \n",
       "ESTADO DE MEXICO VALLE DE CHALCO                                           0.148148                      \n",
       "\n",
       "                                  Estudiantes de nivel media-superior y superior con decisión de Anticonceptivos Reversibles de Larga Duración (ARLD) post-ILE  \\\n",
       "entidad          alc_o_municipio                                                                                                                                 \n",
       "ESTADO DE MEXICO VALLE DE CHALCO                                           0.124074                                                                              \n",
       "\n",
       "                                  Jóvenes de 22-25 desempleadas con decisión de ILE en año de pandemia  \\\n",
       "entidad          alc_o_municipio                                                                         \n",
       "ESTADO DE MEXICO VALLE DE CHALCO                                           0.138889                      \n",
       "\n",
       "                                  Jóvenes de preparatoria con decisión de ILE en su primer gesta  \\\n",
       "entidad          alc_o_municipio                                                                   \n",
       "ESTADO DE MEXICO VALLE DE CHALCO                                           0.085185                \n",
       "\n",
       "                                  Madres con gesta avanzada  \\\n",
       "entidad          alc_o_municipio                              \n",
       "ESTADO DE MEXICO VALLE DE CHALCO                   0.088889   \n",
       "\n",
       "                                  Madres maduras con pareja en unión libre  \\\n",
       "entidad          alc_o_municipio                                             \n",
       "ESTADO DE MEXICO VALLE DE CHALCO                                  0.057407   \n",
       "\n",
       "                                  Madres maduras foráneas con menarca temprana  \\\n",
       "entidad          alc_o_municipio                                                 \n",
       "ESTADO DE MEXICO VALLE DE CHALCO                                      0.053704   \n",
       "\n",
       "                                  Trabajadoras del hogar no remuneradas sin hijos  \\\n",
       "entidad          alc_o_municipio                                                    \n",
       "ESTADO DE MEXICO VALLE DE CHALCO                                         0.116667   \n",
       "\n",
       "                                 cluster  \n",
       "entidad          alc_o_municipio          \n",
       "ESTADO DE MEXICO VALLE DE CHALCO       B  "
      ]
     },
     "execution_count": 8,
     "metadata": {},
     "output_type": "execute_result"
    }
   ],
   "source": [
    "df, loc_cluster = ile_class.loc_cluster(ile)\n",
    "df.sample()"
   ]
  },
  {
   "cell_type": "markdown",
   "metadata": {},
   "source": [
    "## Preservación del modelo"
   ]
  },
  {
   "cell_type": "code",
   "execution_count": 9,
   "metadata": {},
   "outputs": [
    {
     "name": "stdout",
     "output_type": "stream",
     "text": [
      "El modelo ile_modelo_localidad_clustering.xz fue guardado existosamente en:\n",
      "/Users/efraflores/Desktop/EF/Contests/Datathon_CDMX/data\n"
     ]
    }
   ],
   "source": [
    "ile_class.save_model({'pronostico':loc_cluster, 'pronostico_cols':df.columns}, 'ile_modelo_localidad_clustering')"
   ]
  }
 ],
 "metadata": {
  "interpreter": {
   "hash": "bf5c91e87fa3f8c0a87f775dea31b1f562cb136b62dbdf18b0d4eb82d33f0ab4"
  },
  "kernelspec": {
   "display_name": "Python 3.9.1 64-bit ('venv': venv)",
   "name": "python3"
  },
  "language_info": {
   "codemirror_mode": {
    "name": "ipython",
    "version": 3
   },
   "file_extension": ".py",
   "mimetype": "text/x-python",
   "name": "python",
   "nbconvert_exporter": "python",
   "pygments_lexer": "ipython3",
   "version": "3.9.1"
  },
  "orig_nbformat": 4
 },
 "nbformat": 4,
 "nbformat_minor": 2
}
