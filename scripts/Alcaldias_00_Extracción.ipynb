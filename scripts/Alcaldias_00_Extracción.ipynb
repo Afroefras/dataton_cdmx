{
 "cells": [
  {
   "cell_type": "markdown",
   "metadata": {},
   "source": [
    "# Extracción"
   ]
  },
  {
   "cell_type": "markdown",
   "metadata": {},
   "source": [
    "## Parámetros"
   ]
  },
  {
   "cell_type": "code",
   "execution_count": 1,
   "metadata": {},
   "outputs": [],
   "source": [
    "BASE_DIR = '/Users/efraflores/Desktop/EF/Contests/Datathon_CDMX/data' # Mac\n",
    "# BASE_DIR = r'D:\\Users\\efras\\Documents\\EF\\Contests\\Datathon_CDMX\\data' # Windows\n",
    "RESOURCE_ID = 'e4a9b05f-c480-45fb-a62c-6d4e39c5180e'\n",
    "FILE_NAME = 'alcaldias'"
   ]
  },
  {
   "cell_type": "markdown",
   "metadata": {},
   "source": [
    "## Importar"
   ]
  },
  {
   "cell_type": "markdown",
   "metadata": {},
   "source": [
    "### Clase"
   ]
  },
  {
   "cell_type": "code",
   "execution_count": 2,
   "metadata": {},
   "outputs": [
    {
     "name": "stdout",
     "output_type": "stream",
     "text": [
      "Directorio: \t/Users/efraflores/Desktop/EF/Contests/Datathon_CDMX/data\n"
     ]
    }
   ],
   "source": [
    "from mariachis.alcaldias import Alcaldias\n",
    "\n",
    "alc = Alcaldias(BASE_DIR, FILE_NAME)\n",
    "print(alc)"
   ]
  },
  {
   "cell_type": "markdown",
   "metadata": {},
   "source": [
    "### Datos desde API"
   ]
  },
  {
   "cell_type": "code",
   "execution_count": 3,
   "metadata": {},
   "outputs": [
    {
     "name": "stdout",
     "output_type": "stream",
     "text": [
      "Archivo: alcaldias.csv fue exportado exitosamente en: /Users/efraflores/Desktop/EF/Contests/Datathon_CDMX/data\n"
     ]
    },
    {
     "data": {
      "text/html": [
       "<div>\n",
       "<style scoped>\n",
       "    .dataframe tbody tr th:only-of-type {\n",
       "        vertical-align: middle;\n",
       "    }\n",
       "\n",
       "    .dataframe tbody tr th {\n",
       "        vertical-align: top;\n",
       "    }\n",
       "\n",
       "    .dataframe thead th {\n",
       "        text-align: right;\n",
       "    }\n",
       "</style>\n",
       "<table border=\"1\" class=\"dataframe\">\n",
       "  <thead>\n",
       "    <tr style=\"text-align: right;\">\n",
       "      <th></th>\n",
       "      <th>_id</th>\n",
       "      <th>id</th>\n",
       "      <th>nomgeo</th>\n",
       "      <th>cve_mun</th>\n",
       "      <th>cve_ent</th>\n",
       "      <th>cvegeo</th>\n",
       "      <th>geo_point_2d</th>\n",
       "      <th>geo_shape</th>\n",
       "      <th>municipio</th>\n",
       "    </tr>\n",
       "  </thead>\n",
       "  <tbody>\n",
       "    <tr>\n",
       "      <th>9</th>\n",
       "      <td>10</td>\n",
       "      <td>9</td>\n",
       "      <td>lvaro Obregn</td>\n",
       "      <td>10</td>\n",
       "      <td>9</td>\n",
       "      <td>9010</td>\n",
       "      <td>19.336175562,-99.246819712</td>\n",
       "      <td>{\"type\": \"Polygon\", \"coordinates\": [[[-99.1887...</td>\n",
       "      <td>10</td>\n",
       "    </tr>\n",
       "  </tbody>\n",
       "</table>\n",
       "</div>"
      ],
      "text/plain": [
       "   _id  id        nomgeo  cve_mun  cve_ent  cvegeo  \\\n",
       "9   10   9  lvaro Obregn       10        9    9010   \n",
       "\n",
       "                 geo_point_2d  \\\n",
       "9  19.336175562,-99.246819712   \n",
       "\n",
       "                                           geo_shape  municipio  \n",
       "9  {\"type\": \"Polygon\", \"coordinates\": [[[-99.1887...         10  "
      ]
     },
     "execution_count": 3,
     "metadata": {},
     "output_type": "execute_result"
    }
   ],
   "source": [
    "df = alc.full_import(resource_id=RESOURCE_ID)\n",
    "df.sample()"
   ]
  },
  {
   "cell_type": "markdown",
   "metadata": {},
   "source": [
    "## Transformar"
   ]
  },
  {
   "cell_type": "code",
   "execution_count": 4,
   "metadata": {},
   "outputs": [],
   "source": [
    "alcaldias_posibles = [\n",
    "    'Azcapotzalco',\n",
    "    'Benito Juárez', \n",
    "    'Coyoacán',   \n",
    "    'Cuajimalpa de Morelos',   \n",
    "    'Cuauhtémoc',   \n",
    "    'Gustavo A. Madero',   \n",
    "    'Iztacalco',   \n",
    "    'Iztapalapa',  \n",
    "    'La Magdalena Contreras', \n",
    "    'Miguel Hidalgo',\n",
    "    'Milpa Alta',   \n",
    "    'Tlalpan', \n",
    "    'Tláhuac',\n",
    "    'Venustiano Carranza',  \n",
    "    'Xochimilco', \n",
    "    'Álvaro Obregón',\n",
    "]"
   ]
  },
  {
   "cell_type": "code",
   "execution_count": 5,
   "metadata": {},
   "outputs": [
    {
     "name": "stdout",
     "output_type": "stream",
     "text": [
      "Archivo: alcaldias_geoloc.csv fue exportado exitosamente en: /Users/efraflores/Desktop/EF/Contests/Datathon_CDMX/data\n"
     ]
    },
    {
     "data": {
      "text/html": [
       "<div>\n",
       "<style scoped>\n",
       "    .dataframe tbody tr th:only-of-type {\n",
       "        vertical-align: middle;\n",
       "    }\n",
       "\n",
       "    .dataframe tbody tr th {\n",
       "        vertical-align: top;\n",
       "    }\n",
       "\n",
       "    .dataframe thead th {\n",
       "        text-align: right;\n",
       "    }\n",
       "</style>\n",
       "<table border=\"1\" class=\"dataframe\">\n",
       "  <thead>\n",
       "    <tr style=\"text-align: right;\">\n",
       "      <th></th>\n",
       "      <th>geo_shape</th>\n",
       "      <th>geometry</th>\n",
       "      <th>area</th>\n",
       "      <th>boundary</th>\n",
       "      <th>centroid</th>\n",
       "      <th>convex_hull</th>\n",
       "    </tr>\n",
       "    <tr>\n",
       "      <th>nomgeo_correct</th>\n",
       "      <th></th>\n",
       "      <th></th>\n",
       "      <th></th>\n",
       "      <th></th>\n",
       "      <th></th>\n",
       "      <th></th>\n",
       "    </tr>\n",
       "  </thead>\n",
       "  <tbody>\n",
       "    <tr>\n",
       "      <th>Iztapalapa</th>\n",
       "      <td>{\"type\": \"Polygon\", \"coordinates\": [[[-99.0581...</td>\n",
       "      <td>POLYGON ((-99.05813 19.40072, -99.05393 19.398...</td>\n",
       "      <td>0.009768</td>\n",
       "      <td>LINESTRING (-99.05813 19.40072, -99.05393 19.3...</td>\n",
       "      <td>POINT (-99.05664 19.34911)</td>\n",
       "      <td>POLYGON ((-99.06812 19.28593, -99.07219 19.287...</td>\n",
       "    </tr>\n",
       "  </tbody>\n",
       "</table>\n",
       "</div>"
      ],
      "text/plain": [
       "                                                        geo_shape  \\\n",
       "nomgeo_correct                                                      \n",
       "Iztapalapa      {\"type\": \"Polygon\", \"coordinates\": [[[-99.0581...   \n",
       "\n",
       "                                                         geometry      area  \\\n",
       "nomgeo_correct                                                                \n",
       "Iztapalapa      POLYGON ((-99.05813 19.40072, -99.05393 19.398...  0.009768   \n",
       "\n",
       "                                                         boundary  \\\n",
       "nomgeo_correct                                                      \n",
       "Iztapalapa      LINESTRING (-99.05813 19.40072, -99.05393 19.3...   \n",
       "\n",
       "                                  centroid  \\\n",
       "nomgeo_correct                               \n",
       "Iztapalapa      POINT (-99.05664 19.34911)   \n",
       "\n",
       "                                                      convex_hull  \n",
       "nomgeo_correct                                                     \n",
       "Iztapalapa      POLYGON ((-99.06812 19.28593, -99.07219 19.287...  "
      ]
     },
     "execution_count": 5,
     "metadata": {},
     "output_type": "execute_result"
    }
   ],
   "source": [
    "gdf = alc.wrangling_alcaldias(df, col_to_correct='nomgeo', correct_list=alcaldias_posibles)\n",
    "gdf.sample()"
   ]
  },
  {
   "cell_type": "code",
   "execution_count": 6,
   "metadata": {},
   "outputs": [
    {
     "data": {
      "text/plain": [
       "<AxesSubplot:>"
      ]
     },
     "execution_count": 6,
     "metadata": {},
     "output_type": "execute_result"
    },
    {
     "data": {
      "image/png": "[encoded data removed]",
      "text/plain": [
       "<Figure size 432x288 with 1 Axes>"
      ]
     },
     "metadata": {
      "needs_background": "light"
     },
     "output_type": "display_data"
    }
   ],
   "source": [
    "ax = gdf.plot('area')\n",
    "gdf['centroid'].plot(ax=ax, color='white', alpha=.5)\n",
    "gdf['boundary'].plot(ax=ax, color='white')"
   ]
  }
 ],
 "metadata": {
  "interpreter": {
   "hash": "bf5c91e87fa3f8c0a87f775dea31b1f562cb136b62dbdf18b0d4eb82d33f0ab4"
  },
  "kernelspec": {
   "display_name": "Python 3.9.1 64-bit ('venv': venv)",
   "name": "python3"
  },
  "language_info": {
   "codemirror_mode": {
    "name": "ipython",
    "version": 3
   },
   "file_extension": ".py",
   "mimetype": "text/x-python",
   "name": "python",
   "nbconvert_exporter": "python",
   "pygments_lexer": "ipython3",
   "version": "3.9.1"
  },
  "orig_nbformat": 4
 },
 "nbformat": 4,
 "nbformat_minor": 2
}
